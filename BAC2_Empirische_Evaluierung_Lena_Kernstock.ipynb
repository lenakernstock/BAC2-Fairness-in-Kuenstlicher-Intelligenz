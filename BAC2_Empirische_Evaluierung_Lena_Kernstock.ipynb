{
 "cells": [
  {
   "cell_type": "markdown",
   "id": "7fef035e",
   "metadata": {},
   "source": [
    "# Fairness in Künstlicher Intelligenz\n",
    "## Empirische Evaluierung\n",
    "Dieses Notebook enthält einen möglichen Workflow für das Minimieren von Voreingenommenheiten in einem binären Klassifikator, der vorhersagen soll, ob das jährliche Einkommen einer Person 50.000$ übersteigen wird. Das zu entwickelnde Modell wird auf Voreingenommenheiten bezüglich des Geschlechtes untersucht. "
   ]
  },
  {
   "cell_type": "markdown",
   "id": "2a390a09",
   "metadata": {},
   "source": [
    "# Setup\n",
    "Zuerst werden alle benötigten Module importiert. Zur Mitigation von Voreingenommenheit werden dazu in IBMs Open Source Bibliothek 'AI Fairness 360' (AIF360) implementierte Metriken und Methoden verwendet."
   ]
  },
  {
   "cell_type": "code",
   "execution_count": 1,
   "id": "92eec8d0",
   "metadata": {},
   "outputs": [
    {
     "name": "stdout",
     "output_type": "stream",
     "text": [
      "INFO:tensorflow:Enabling eager execution\n",
      "INFO:tensorflow:Enabling v2 tensorshape\n",
      "INFO:tensorflow:Enabling resource variables\n",
      "INFO:tensorflow:Enabling tensor equality\n",
      "INFO:tensorflow:Enabling control flow v2\n",
      "sklearn: 0.24.1\n",
      "pandas: 1.2.4\n",
      "seaborn: 0.11.1\n",
      "tensorflow: 2.5.0-rc1\n"
     ]
    }
   ],
   "source": [
    "import pandas as pd\n",
    "import numpy as np\n",
    "import matplotlib.pyplot as plt\n",
    "import matplotlib.patches as mpatches\n",
    "from matplotlib import gridspec\n",
    "import seaborn as sns\n",
    "import tensorflow as tf\n",
    "from IPython.display import Markdown, display\n",
    "\n",
    "import sklearn as sk\n",
    "from sklearn.model_selection import train_test_split\n",
    "from sklearn.preprocessing import StandardScaler\n",
    "from sklearn.compose import ColumnTransformer \n",
    "\n",
    "from sklearn.linear_model import LogisticRegression\n",
    "from sklearn.metrics import accuracy_score\n",
    "from collections import Counter\n",
    "\n",
    "# AIF360 Bibliothek\n",
    "import sys\n",
    "sys.path.insert(1, \"../\")\n",
    "import aif360\n",
    "from aif360.metrics import BinaryLabelDatasetMetric\n",
    "from aif360.metrics import ClassificationMetric\n",
    "from aif360.algorithms.preprocessing.reweighing import Reweighing\n",
    "from aif360.algorithms.inprocessing.adversarial_debiasing import AdversarialDebiasing\n",
    "from aif360.algorithms.postprocessing.reject_option_classification import RejectOptionClassification\n",
    "\n",
    "print(f\"sklearn: {sk.__version__}\")\n",
    "print(f\"pandas: {pd.__version__}\")\n",
    "print(f\"seaborn: {sns.__version__}\")\n",
    "print(f\"tensorflow: {tf.__version__}\")"
   ]
  },
  {
   "cell_type": "code",
   "execution_count": 2,
   "id": "f74aab86",
   "metadata": {},
   "outputs": [],
   "source": [
    "# Setzen eines random seed um die Wiederholbarkeit der Versuche zu gewährleisten\n",
    "\n",
    "seed = 123\n",
    "np.random.seed(seed)"
   ]
  },
  {
   "cell_type": "markdown",
   "id": "16da7c7d",
   "metadata": {},
   "source": [
    "# Datensatz laden"
   ]
  },
  {
   "cell_type": "markdown",
   "id": "2778249b",
   "metadata": {},
   "source": [
    "In diesem Beispiel wird der Klassifikator anhand von US-amerikanischen Volkszählungsdaten aus dem Jahre 1994 trainiert. Der Datensatz, bekannt unter dem Namen 'Census Income Dataset' enthält sowohl numerische (z.B. 'age') als auch kategorische (z.B. 'workclass') Daten.\n",
    "<br><br>\n",
    "<i> Census Income Dataset: http://archive.ics.uci.edu/ml/datasets/Adult </i>"
   ]
  },
  {
   "cell_type": "code",
   "execution_count": 3,
   "id": "b12fd695",
   "metadata": {},
   "outputs": [],
   "source": [
    "# Spaltennamen definieren und Datensatz einlesen\n",
    "\n",
    "names = [\n",
    "    'age',\n",
    "    'workclass',\n",
    "    'fnlwgt',\n",
    "    'education',\n",
    "    'education-num',\n",
    "    'marital-status',\n",
    "    'occupation',\n",
    "    'relationship',\n",
    "    'race',\n",
    "    'sex',\n",
    "    'capital-gain',\n",
    "    'capital-loss',\n",
    "    'hours-per-week',\n",
    "    'native-country',\n",
    "    'income',\n",
    "    ]\n",
    "\n",
    "data_raw = pd.read_csv('dataset/adult.data', names=names, sep=' *, *', na_values='?', engine = 'python')"
   ]
  },
  {
   "cell_type": "code",
   "execution_count": 4,
   "id": "809944f5",
   "metadata": {},
   "outputs": [
    {
     "data": {
      "text/html": [
       "<div>\n",
       "<style scoped>\n",
       "    .dataframe tbody tr th:only-of-type {\n",
       "        vertical-align: middle;\n",
       "    }\n",
       "\n",
       "    .dataframe tbody tr th {\n",
       "        vertical-align: top;\n",
       "    }\n",
       "\n",
       "    .dataframe thead th {\n",
       "        text-align: right;\n",
       "    }\n",
       "</style>\n",
       "<table border=\"1\" class=\"dataframe\">\n",
       "  <thead>\n",
       "    <tr style=\"text-align: right;\">\n",
       "      <th></th>\n",
       "      <th>age</th>\n",
       "      <th>workclass</th>\n",
       "      <th>fnlwgt</th>\n",
       "      <th>education</th>\n",
       "      <th>education-num</th>\n",
       "      <th>marital-status</th>\n",
       "      <th>occupation</th>\n",
       "      <th>relationship</th>\n",
       "      <th>race</th>\n",
       "      <th>sex</th>\n",
       "      <th>capital-gain</th>\n",
       "      <th>capital-loss</th>\n",
       "      <th>hours-per-week</th>\n",
       "      <th>native-country</th>\n",
       "      <th>income</th>\n",
       "    </tr>\n",
       "  </thead>\n",
       "  <tbody>\n",
       "    <tr>\n",
       "      <th>0</th>\n",
       "      <td>39</td>\n",
       "      <td>State-gov</td>\n",
       "      <td>77516</td>\n",
       "      <td>Bachelors</td>\n",
       "      <td>13</td>\n",
       "      <td>Never-married</td>\n",
       "      <td>Adm-clerical</td>\n",
       "      <td>Not-in-family</td>\n",
       "      <td>White</td>\n",
       "      <td>Male</td>\n",
       "      <td>2174</td>\n",
       "      <td>0</td>\n",
       "      <td>40</td>\n",
       "      <td>United-States</td>\n",
       "      <td>&lt;=50K</td>\n",
       "    </tr>\n",
       "    <tr>\n",
       "      <th>1</th>\n",
       "      <td>50</td>\n",
       "      <td>Self-emp-not-inc</td>\n",
       "      <td>83311</td>\n",
       "      <td>Bachelors</td>\n",
       "      <td>13</td>\n",
       "      <td>Married-civ-spouse</td>\n",
       "      <td>Exec-managerial</td>\n",
       "      <td>Husband</td>\n",
       "      <td>White</td>\n",
       "      <td>Male</td>\n",
       "      <td>0</td>\n",
       "      <td>0</td>\n",
       "      <td>13</td>\n",
       "      <td>United-States</td>\n",
       "      <td>&lt;=50K</td>\n",
       "    </tr>\n",
       "    <tr>\n",
       "      <th>2</th>\n",
       "      <td>38</td>\n",
       "      <td>Private</td>\n",
       "      <td>215646</td>\n",
       "      <td>HS-grad</td>\n",
       "      <td>9</td>\n",
       "      <td>Divorced</td>\n",
       "      <td>Handlers-cleaners</td>\n",
       "      <td>Not-in-family</td>\n",
       "      <td>White</td>\n",
       "      <td>Male</td>\n",
       "      <td>0</td>\n",
       "      <td>0</td>\n",
       "      <td>40</td>\n",
       "      <td>United-States</td>\n",
       "      <td>&lt;=50K</td>\n",
       "    </tr>\n",
       "    <tr>\n",
       "      <th>3</th>\n",
       "      <td>53</td>\n",
       "      <td>Private</td>\n",
       "      <td>234721</td>\n",
       "      <td>11th</td>\n",
       "      <td>7</td>\n",
       "      <td>Married-civ-spouse</td>\n",
       "      <td>Handlers-cleaners</td>\n",
       "      <td>Husband</td>\n",
       "      <td>Black</td>\n",
       "      <td>Male</td>\n",
       "      <td>0</td>\n",
       "      <td>0</td>\n",
       "      <td>40</td>\n",
       "      <td>United-States</td>\n",
       "      <td>&lt;=50K</td>\n",
       "    </tr>\n",
       "    <tr>\n",
       "      <th>4</th>\n",
       "      <td>28</td>\n",
       "      <td>Private</td>\n",
       "      <td>338409</td>\n",
       "      <td>Bachelors</td>\n",
       "      <td>13</td>\n",
       "      <td>Married-civ-spouse</td>\n",
       "      <td>Prof-specialty</td>\n",
       "      <td>Wife</td>\n",
       "      <td>Black</td>\n",
       "      <td>Female</td>\n",
       "      <td>0</td>\n",
       "      <td>0</td>\n",
       "      <td>40</td>\n",
       "      <td>Cuba</td>\n",
       "      <td>&lt;=50K</td>\n",
       "    </tr>\n",
       "  </tbody>\n",
       "</table>\n",
       "</div>"
      ],
      "text/plain": [
       "   age         workclass  fnlwgt  education  education-num  \\\n",
       "0   39         State-gov   77516  Bachelors             13   \n",
       "1   50  Self-emp-not-inc   83311  Bachelors             13   \n",
       "2   38           Private  215646    HS-grad              9   \n",
       "3   53           Private  234721       11th              7   \n",
       "4   28           Private  338409  Bachelors             13   \n",
       "\n",
       "       marital-status         occupation   relationship   race     sex  \\\n",
       "0       Never-married       Adm-clerical  Not-in-family  White    Male   \n",
       "1  Married-civ-spouse    Exec-managerial        Husband  White    Male   \n",
       "2            Divorced  Handlers-cleaners  Not-in-family  White    Male   \n",
       "3  Married-civ-spouse  Handlers-cleaners        Husband  Black    Male   \n",
       "4  Married-civ-spouse     Prof-specialty           Wife  Black  Female   \n",
       "\n",
       "   capital-gain  capital-loss  hours-per-week native-country income  \n",
       "0          2174             0              40  United-States  <=50K  \n",
       "1             0             0              13  United-States  <=50K  \n",
       "2             0             0              40  United-States  <=50K  \n",
       "3             0             0              40  United-States  <=50K  \n",
       "4             0             0              40           Cuba  <=50K  "
      ]
     },
     "execution_count": 4,
     "metadata": {},
     "output_type": "execute_result"
    }
   ],
   "source": [
    "# Die ersten fünf Einträge des Datensatzes anzeigen\n",
    "\n",
    "data_raw.head()"
   ]
  },
  {
   "cell_type": "markdown",
   "id": "03c34338",
   "metadata": {},
   "source": [
    "Im Datensatz befinden zwei offensichtlich sensitive Attribute: 'sex' und 'race', eventuell könnte auch 'age' als sensitives Attribut gesehen werden. \n",
    "<br>\n",
    "Dieser Versuch zielt nicht darauf ab, einen rundum fairen Klassifikator zu programmieren, sondern dient vielmehr als praktische Demonstration für die möglichen Ansätze zur AV-Erkennung und -Mitigation sowie deren Unterschiede, und beschränkt sich somit auf die Analyse und Erhöhung der Fairness des Klassifikators bezüglich eines der genannten sensitiven Attribute. Im folgenden Notebook wird die Fairness eines Klassifikators bezüglich des Attributs 'sex', dem Geschlecht der Person, untersucht. In der Entwicklung von später in Einsatz kommenden intelligenten Systemen sollten jedoch alle möglichen Diskriminierungen untersucht werden."
   ]
  },
  {
   "cell_type": "markdown",
   "id": "36c6c4cc",
   "metadata": {},
   "source": [
    "# Fehlende Daten entfernen\n",
    "Zuerst werden die Daten bereinigt: Der Datensatz enthält unvollständige Einträge. Diese werden vor dem Training aus dem Datensatz entfernt. "
   ]
  },
  {
   "cell_type": "code",
   "execution_count": 5,
   "id": "eab7d8f1",
   "metadata": {},
   "outputs": [
    {
     "name": "stdout",
     "output_type": "stream",
     "text": [
      "Daten vor dem Entfernen: (32561, 15)\n",
      "Daten nach dem Entfernen:: (30162, 15)\n"
     ]
    }
   ],
   "source": [
    "data = data_raw.copy()\n",
    "print(f'Daten vor dem Entfernen: {data.shape}')\n",
    "data.dropna(inplace=True)  # Alle Reihen, die 'NaN' (Not a Number) enthalten, werden entfernt\n",
    "print(f'Daten nach dem Entfernen:: {data.shape}')"
   ]
  },
  {
   "cell_type": "markdown",
   "id": "0209cdc3",
   "metadata": {},
   "source": [
    "# Datenanalyse + Visualisierungen\n",
    "Bevor der Klassifikator trainiert wird, werden zunächst die verwendeten Daten untersucht. Können bereits im Datensatz Voreingenommenheiten erkannt werden?"
   ]
  },
  {
   "cell_type": "markdown",
   "id": "b680631a",
   "metadata": {},
   "source": [
    "### Ground Truth Balance"
   ]
  },
  {
   "cell_type": "code",
   "execution_count": 6,
   "id": "331ee3af",
   "metadata": {},
   "outputs": [
    {
     "name": "stdout",
     "output_type": "stream",
     "text": [
      "Klasse: <=50K, Anzahl: 22654, Prozent: 75.108%\n",
      "Klasse: >50K, Anzahl: 7508, Prozent: 24.892%\n"
     ]
    },
    {
     "data": {
      "text/plain": [
       "[]"
      ]
     },
     "execution_count": 6,
     "metadata": {},
     "output_type": "execute_result"
    },
    {
     "data": {
      "image/png": "[encoded data removed]",
      "text/plain": [
       "<Figure size 432x288 with 1 Axes>"
      ]
     },
     "metadata": {
      "needs_background": "light"
     },
     "output_type": "display_data"
    }
   ],
   "source": [
    "# Ausgeben der Balance zwischen positiven (>50K) und negativen (<=50K) Labels\n",
    "income = data.values[:,-1]\n",
    "counter_income = Counter(income)\n",
    "for k,v in counter_income.items():\n",
    "    per = v / len(income) * 100\n",
    "    print('Klasse: %s, Anzahl: %d, Prozent: %.3f%%' % (k, v, per))\n",
    "    \n",
    "plt.figure()\n",
    "sns.countplot(y='income', data=data)\n",
    "plt.title('Ground Truth Verteilung')\n",
    "plt.xlabel('Anzahl')\n",
    "plt.ylabel('Einkommen')\n",
    "plt.plot()"
   ]
  },
  {
   "cell_type": "markdown",
   "id": "afd711c4",
   "metadata": {},
   "source": [
    "Die Verteilung zwischen positiven (>50K) und negativen (<=50K) Klassen ist in diesem Datensatz unausgeglichen. Ungleiche Repräsentation im verwendeten Datensatz kann ein frühzeitiges Anzeichen für spätere Voreingenommenheit gegenüber der stärker vertretenen Klasse (<=50K) sein, beispielsweise könnte die Fehlerrate in den Vorhersagen später zwischen den 'income' Klassen ebenso ungleich verteilt sein. Das Modell könnte außerdem durch das ständige Vorhersagen von '<=50K' bereits eine Klassifikationsgenauigkeit von 75% erzielen. "
   ]
  },
  {
   "cell_type": "markdown",
   "id": "6c58c50c",
   "metadata": {},
   "source": [
    "### Ground Truth Verteilung nach dem sensitiven Attribut 'sex'"
   ]
  },
  {
   "cell_type": "code",
   "execution_count": 7,
   "id": "23f9d695",
   "metadata": {
    "scrolled": false
   },
   "outputs": [
    {
     "data": {
      "text/markdown": [
       "#### Ground Truth Verteilung nach dem sensitiven Attribut 'sex'"
      ],
      "text/plain": [
       "<IPython.core.display.Markdown object>"
      ]
     },
     "metadata": {},
     "output_type": "display_data"
    },
    {
     "data": {
      "text/plain": [
       "[]"
      ]
     },
     "execution_count": 7,
     "metadata": {},
     "output_type": "execute_result"
    },
    {
     "data": {
      "image/png": "[encoded data removed]",
      "text/plain": [
       "<Figure size 432x288 with 1 Axes>"
      ]
     },
     "metadata": {
      "needs_background": "light"
     },
     "output_type": "display_data"
    }
   ],
   "source": [
    "display(Markdown(\"#### Ground Truth Verteilung nach dem sensitiven Attribut 'sex'\"))\n",
    "\n",
    "plt.figure()\n",
    "sns.countplot(y='sex', hue='income', data = data)\n",
    "plt.title('Repräsentation und Ground Truth Verteilung nach Geschlecht')\n",
    "plt.xlabel('Anzahl')\n",
    "plt.ylabel('Geschlecht')\n",
    "plt.plot()"
   ]
  },
  {
   "cell_type": "markdown",
   "id": "b49fe30d",
   "metadata": {},
   "source": [
    "Frauen sind gegenüber Männern unterrepräsentiert und weisen zusätzlich eine geringere Häufigkeit an positiven Labels (>50K) auf. Dies deutet auf eine Anfälligkeit auf Voreingenommenheit im späteren Modell hin. \n",
    "<br> \n",
    "In Verbindung mit der ungleichen Repräsentation der beiden 'income'-Klassen könnte es jedoch zum Beispiel auch möglich sein, dass die Fehlerrate in den Vorhersagen für Frauen, die aufgrund des voreingenommenen Datensatzes verhältnismäßig mehr in der 'income' Mehrheitsklasse vertreten sind, sogar geringer ausfällt als für Männer. \n",
    "<br>\n"
   ]
  },
  {
   "cell_type": "markdown",
   "id": "e3e4d7b9",
   "metadata": {},
   "source": [
    "### Vergleich: Ground Truth Verteilung nach dem sensitiven Attribut 'race'"
   ]
  },
  {
   "cell_type": "code",
   "execution_count": 8,
   "id": "11aa7bdb",
   "metadata": {
    "scrolled": true
   },
   "outputs": [
    {
     "data": {
      "text/markdown": [
       "#### Ground Truth Verteilung nach dem sensitiven Attribut 'race'"
      ],
      "text/plain": [
       "<IPython.core.display.Markdown object>"
      ]
     },
     "metadata": {},
     "output_type": "display_data"
    },
    {
     "data": {
      "text/plain": [
       "[]"
      ]
     },
     "execution_count": 8,
     "metadata": {},
     "output_type": "execute_result"
    },
    {
     "data": {
      "image/png": "[encoded data removed]",
      "text/plain": [
       "<Figure size 432x288 with 1 Axes>"
      ]
     },
     "metadata": {
      "needs_background": "light"
     },
     "output_type": "display_data"
    }
   ],
   "source": [
    "display(Markdown(\"#### Ground Truth Verteilung nach dem sensitiven Attribut 'race'\"))\n",
    "plt.figure()\n",
    "sns.countplot(y='race', hue='income', data = data)\n",
    "plt.title(\"Repräsentation und Ground Truth Verteilung nach 'race'\")\n",
    "plt.xlabel('Anzahl')\n",
    "plt.ylabel(\"'race'\")\n",
    "plt.legend(loc='lower right')\n",
    "plt.plot()"
   ]
  },
  {
   "cell_type": "markdown",
   "id": "a219b2ea",
   "metadata": {},
   "source": [
    "Der Datensatz enthält auch Informationen zu dem sensitiven Attribut \"race\". Mit der Verteilung dieses Attributs verhält es sich ähnlich wie mit dem Attribut \"sex\". Diese Visualisierung zeigt einerseits, dass der Wert \"White\" weit stärker repräsentiert ist als alle anderen Werte, andererseits ist auch der Anteil positiver Labels hier verhältnismäßig größer. Das ist somit ein starkes Anzeichen dafür, dass das Modell später bezüglich dieses Attributs voreingenommen werden kann. Wie bereits erwähnt, liegt der Fokus dieses Versuches auf dem sensitiven Attribut 'sex'. In der Entwicklung intelligenter Systeme sollte jedoch jedes sensitive Attribut auf Voreingenommenheit untersucht werden."
   ]
  },
  {
   "cell_type": "markdown",
   "id": "d3b2b8df",
   "metadata": {},
   "source": [
    "### Visualisierung der allgemeinen Verteilungen der numerischen Daten"
   ]
  },
  {
   "cell_type": "code",
   "execution_count": 9,
   "id": "4bfd09e8",
   "metadata": {},
   "outputs": [
    {
     "name": "stdout",
     "output_type": "stream",
     "text": [
      "columns with numerical data: Index(['age', 'fnlwgt', 'education-num', 'capital-gain', 'capital-loss',\n",
      "       'hours-per-week'],\n",
      "      dtype='object')\n"
     ]
    }
   ],
   "source": [
    "# Numerische Daten extrahieren\n",
    "num_data = data.select_dtypes(include=['int'])  \n",
    "print(f'columns with numerical data: {num_data.columns}')"
   ]
  },
  {
   "cell_type": "code",
   "execution_count": 10,
   "id": "5a0c5ddc",
   "metadata": {},
   "outputs": [
    {
     "data": {
      "text/plain": [
       "array([[<AxesSubplot:title={'center':'age'}>,\n",
       "        <AxesSubplot:title={'center':'fnlwgt'}>],\n",
       "       [<AxesSubplot:title={'center':'education-num'}>,\n",
       "        <AxesSubplot:title={'center':'capital-gain'}>],\n",
       "       [<AxesSubplot:title={'center':'capital-loss'}>,\n",
       "        <AxesSubplot:title={'center':'hours-per-week'}>]], dtype=object)"
      ]
     },
     "execution_count": 10,
     "metadata": {},
     "output_type": "execute_result"
    },
    {
     "data": {
      "image/png": "[encoded data removed]",
      "text/plain": [
       "<Figure size 720x720 with 6 Axes>"
      ]
     },
     "metadata": {
      "needs_background": "light"
     },
     "output_type": "display_data"
    }
   ],
   "source": [
    "num_data.hist(figsize=(10,10))"
   ]
  },
  {
   "cell_type": "markdown",
   "id": "ef135deb",
   "metadata": {},
   "source": [
    "Es kann beobachtet werden, dass auch die Verteilung des Alters nicht ausgeglichen ist. Das Modell könnte somit genauso auf Voreingenommenheiten gegenüber Personen über 50 untersucht werden, da diese Gruppe unterrepräsentiert ist. \n",
    "<br>\n",
    "### Visualisierungen von Verteilungen nach dem Geschlecht\n",
    "Neben den allgemeinen Verteilungen im Datensatz kann es für die frühzeitige Erkennung von Diskriminierung sowie dem Identifizieren von Proxyvariablen hilfreich sein, die Verteilungen in Bezug auf das sensitive Attribut zu analysieren."
   ]
  },
  {
   "cell_type": "code",
   "execution_count": 11,
   "id": "0627aa15",
   "metadata": {},
   "outputs": [
    {
     "data": {
      "image/png": "[encoded data removed]",
      "text/plain": [
       "<Figure size 720x1080 with 3 Axes>"
      ]
     },
     "metadata": {
      "needs_background": "light"
     },
     "output_type": "display_data"
    },
    {
     "name": "stdout",
     "output_type": "stream",
     "text": [
      "Mittlere Anzahl der Bildungsjahre, male:   10.132188420019627\n",
      "Mittlere Anzahl der Bildungsjahre, female: 10.098650582702923\n",
      "Durchschnittsalter, male:   39.18400392541707\n",
      "Durchschnittsalter, female: 36.8834594152525\n"
     ]
    }
   ],
   "source": [
    "# Visualisieren der relativen Verteilungen von 'age', 'education-num' und 'workclass' nach Geschlecht\n",
    "\n",
    "# Alter\n",
    "age_sens_attr = (data.groupby(['sex'])['age']\n",
    "                     .value_counts(normalize=True)\n",
    "                     .rename('%')\n",
    "                     .mul(100)\n",
    "                     .reset_index())\n",
    "\n",
    "# Bildungsjahre\n",
    "educationnum_sens_attr = (data.groupby(['sex'])['education-num']\n",
    "                     .value_counts(normalize=True)\n",
    "                     .rename('%')\n",
    "                     .mul(100)\n",
    "                     .reset_index())\n",
    "    \n",
    "# Arbeitsklasse\n",
    "workclass_sens_attr = (data.groupby(['sex'])['workclass']\n",
    "                     .value_counts(normalize=True)\n",
    "                     .rename('%')\n",
    "                     .mul(100)\n",
    "                     .reset_index())\n",
    "\n",
    "fig, ax = plt.subplots(3,1, figsize=(10,15))\n",
    "\n",
    "sns.barplot(ax=ax[0], x=\"age\", y=\"%\", data=age_sens_attr, hue=\"sex\")\n",
    "ax[0].set_xticks([5,10,15,20,25,30,35,40,45,50,55,60,65])\n",
    "ax[0].set_title(\"Relative Verteilungen von 'age' nach Geschlecht\")\n",
    "\n",
    "sns.barplot(ax=ax[1], x=\"education-num\", y=\"%\", data=educationnum_sens_attr, hue=\"sex\")\n",
    "ax[1].set_title(\"Relative Verteilungen von 'education-num' nach Geschlecht\")\n",
    "\n",
    "sns.barplot(ax=ax[2], x=\"workclass\", y=\"%\", data=workclass_sens_attr, hue=\"sex\")\n",
    "ax[2].set_title(\"Relative Verteilungen von 'workclass' nach Geschlecht\") \n",
    "\n",
    "plt.show()\n",
    "\n",
    "\n",
    "# Berechnen der Durchschnittswerte für 'age' und 'education-num' nach Geschlecht\n",
    "males_in_data = data[data['sex'] == 'Male']\n",
    "females_in_data = data[data['sex'] == 'Female']\n",
    "\n",
    "print(f'Mittlere Anzahl der Bildungsjahre, male:   {males_in_data[\"education-num\"].mean()}')\n",
    "print(f'Mittlere Anzahl der Bildungsjahre, female: {females_in_data[\"education-num\"].mean()}')\n",
    "\n",
    "print(f'Durchschnittsalter, male:   {males_in_data[\"age\"].mean()}')\n",
    "print(f'Durchschnittsalter, female: {females_in_data[\"age\"].mean()}')"
   ]
  },
  {
   "cell_type": "markdown",
   "id": "f30b1790",
   "metadata": {},
   "source": [
    "Während sich die relativen Verteilungen von Alter, Anzahl der Bildungsjahre und Arbeitsfeld prinzipiell zwischen beiden Geschlechtern überschneiden, sind doch Unterschiede erkennbar, so sind Frauen im Datensatz z.B. durchschnittlich jünger. Auch die Verteilung der Bildungsjahre unterscheidet sich etwas, die Jahresanzahl für Männer hat in diesem Datensatz etwa eine höhere Wahrscheinlichkeit, 12 Jahre zu übersteigen. Außerdem ist es in diesen Daten für Männer häufiger der Fall, mit ihrem Job selbstständig zu sein. Muster wie diese bedeuten, dass diese Variablen auch indirekte Informationen über das sensitive Attribut beinhalten, die das Modell aufschnappen könnte."
   ]
  },
  {
   "cell_type": "markdown",
   "id": "ce869086",
   "metadata": {},
   "source": [
    "In weiterer Folge werden Voreingenommenheiten und Diskriminierungen bezogen auf das sensitive Attribute 'sex' näher untersucht. Zunächst wird dazu ein Baseline Modell mit den unveränderten Daten trainiert, um es später nach der Anwendung von Methoden zur Minimierung von Voreingenommenheiten als Referenz heranziehen zu können. "
   ]
  },
  {
   "cell_type": "markdown",
   "id": "c0673b5d",
   "metadata": {},
   "source": [
    "# Trainieren des voreingenommenen Baseline Modells"
   ]
  },
  {
   "cell_type": "markdown",
   "id": "0c1c7cac",
   "metadata": {},
   "source": [
    "## Daten formatieren\n",
    "### Numerischen Datensatz erstellen\n",
    "Der verwendete Datensatz enthält sowohl numerische als auch kategorische Daten. Die numerischen werden standardisiert, da sie unterschiedliche Skalen aufweisen, die kategorischen werden in numerische Daten umgewandelt. "
   ]
  },
  {
   "cell_type": "code",
   "execution_count": 12,
   "id": "78af3b30",
   "metadata": {},
   "outputs": [],
   "source": [
    "# Erstellen des numerischen Datensatzes\n",
    "data_num = data.copy()\n",
    "\n",
    "# Die Attribute 'income' und 'sex' werden in integers (0 oder 1) umgewandelt, da sie nur einen von zwei Werten annehmen können \n",
    "data_num['income'] = (data_num['income'] == '>50K').astype(int)  # Werte für 'income' '>50' werden nun durch '1' repräsentiert\n",
    "data_num['sex'] = (data_num['sex'] == 'Male').astype(int)  # Werte für 'Male' werden nun durch '1' repräsentiert\n",
    "\n",
    "# Die Methode pd.get_dummies() transformiert die kategorischen Spalten in numerische\n",
    "data_num = data_num.fillna('Unknown').pipe(pd.get_dummies, drop_first=True)"
   ]
  },
  {
   "cell_type": "code",
   "execution_count": 13,
   "id": "e875b2c4",
   "metadata": {},
   "outputs": [
    {
     "name": "stdout",
     "output_type": "stream",
     "text": [
      "Der Datensatz hat nun 30162 Einträge mit 97 Spalten.\n"
     ]
    },
    {
     "data": {
      "text/html": [
       "<div>\n",
       "<style scoped>\n",
       "    .dataframe tbody tr th:only-of-type {\n",
       "        vertical-align: middle;\n",
       "    }\n",
       "\n",
       "    .dataframe tbody tr th {\n",
       "        vertical-align: top;\n",
       "    }\n",
       "\n",
       "    .dataframe thead th {\n",
       "        text-align: right;\n",
       "    }\n",
       "</style>\n",
       "<table border=\"1\" class=\"dataframe\">\n",
       "  <thead>\n",
       "    <tr style=\"text-align: right;\">\n",
       "      <th></th>\n",
       "      <th>age</th>\n",
       "      <th>fnlwgt</th>\n",
       "      <th>education-num</th>\n",
       "      <th>sex</th>\n",
       "      <th>capital-gain</th>\n",
       "      <th>capital-loss</th>\n",
       "      <th>hours-per-week</th>\n",
       "      <th>income</th>\n",
       "      <th>workclass_Local-gov</th>\n",
       "      <th>workclass_Private</th>\n",
       "      <th>...</th>\n",
       "      <th>native-country_Portugal</th>\n",
       "      <th>native-country_Puerto-Rico</th>\n",
       "      <th>native-country_Scotland</th>\n",
       "      <th>native-country_South</th>\n",
       "      <th>native-country_Taiwan</th>\n",
       "      <th>native-country_Thailand</th>\n",
       "      <th>native-country_Trinadad&amp;Tobago</th>\n",
       "      <th>native-country_United-States</th>\n",
       "      <th>native-country_Vietnam</th>\n",
       "      <th>native-country_Yugoslavia</th>\n",
       "    </tr>\n",
       "  </thead>\n",
       "  <tbody>\n",
       "    <tr>\n",
       "      <th>0</th>\n",
       "      <td>39</td>\n",
       "      <td>77516</td>\n",
       "      <td>13</td>\n",
       "      <td>1</td>\n",
       "      <td>2174</td>\n",
       "      <td>0</td>\n",
       "      <td>40</td>\n",
       "      <td>0</td>\n",
       "      <td>0</td>\n",
       "      <td>0</td>\n",
       "      <td>...</td>\n",
       "      <td>0</td>\n",
       "      <td>0</td>\n",
       "      <td>0</td>\n",
       "      <td>0</td>\n",
       "      <td>0</td>\n",
       "      <td>0</td>\n",
       "      <td>0</td>\n",
       "      <td>1</td>\n",
       "      <td>0</td>\n",
       "      <td>0</td>\n",
       "    </tr>\n",
       "    <tr>\n",
       "      <th>1</th>\n",
       "      <td>50</td>\n",
       "      <td>83311</td>\n",
       "      <td>13</td>\n",
       "      <td>1</td>\n",
       "      <td>0</td>\n",
       "      <td>0</td>\n",
       "      <td>13</td>\n",
       "      <td>0</td>\n",
       "      <td>0</td>\n",
       "      <td>0</td>\n",
       "      <td>...</td>\n",
       "      <td>0</td>\n",
       "      <td>0</td>\n",
       "      <td>0</td>\n",
       "      <td>0</td>\n",
       "      <td>0</td>\n",
       "      <td>0</td>\n",
       "      <td>0</td>\n",
       "      <td>1</td>\n",
       "      <td>0</td>\n",
       "      <td>0</td>\n",
       "    </tr>\n",
       "    <tr>\n",
       "      <th>2</th>\n",
       "      <td>38</td>\n",
       "      <td>215646</td>\n",
       "      <td>9</td>\n",
       "      <td>1</td>\n",
       "      <td>0</td>\n",
       "      <td>0</td>\n",
       "      <td>40</td>\n",
       "      <td>0</td>\n",
       "      <td>0</td>\n",
       "      <td>1</td>\n",
       "      <td>...</td>\n",
       "      <td>0</td>\n",
       "      <td>0</td>\n",
       "      <td>0</td>\n",
       "      <td>0</td>\n",
       "      <td>0</td>\n",
       "      <td>0</td>\n",
       "      <td>0</td>\n",
       "      <td>1</td>\n",
       "      <td>0</td>\n",
       "      <td>0</td>\n",
       "    </tr>\n",
       "    <tr>\n",
       "      <th>3</th>\n",
       "      <td>53</td>\n",
       "      <td>234721</td>\n",
       "      <td>7</td>\n",
       "      <td>1</td>\n",
       "      <td>0</td>\n",
       "      <td>0</td>\n",
       "      <td>40</td>\n",
       "      <td>0</td>\n",
       "      <td>0</td>\n",
       "      <td>1</td>\n",
       "      <td>...</td>\n",
       "      <td>0</td>\n",
       "      <td>0</td>\n",
       "      <td>0</td>\n",
       "      <td>0</td>\n",
       "      <td>0</td>\n",
       "      <td>0</td>\n",
       "      <td>0</td>\n",
       "      <td>1</td>\n",
       "      <td>0</td>\n",
       "      <td>0</td>\n",
       "    </tr>\n",
       "    <tr>\n",
       "      <th>4</th>\n",
       "      <td>28</td>\n",
       "      <td>338409</td>\n",
       "      <td>13</td>\n",
       "      <td>0</td>\n",
       "      <td>0</td>\n",
       "      <td>0</td>\n",
       "      <td>40</td>\n",
       "      <td>0</td>\n",
       "      <td>0</td>\n",
       "      <td>1</td>\n",
       "      <td>...</td>\n",
       "      <td>0</td>\n",
       "      <td>0</td>\n",
       "      <td>0</td>\n",
       "      <td>0</td>\n",
       "      <td>0</td>\n",
       "      <td>0</td>\n",
       "      <td>0</td>\n",
       "      <td>0</td>\n",
       "      <td>0</td>\n",
       "      <td>0</td>\n",
       "    </tr>\n",
       "  </tbody>\n",
       "</table>\n",
       "<p>5 rows × 97 columns</p>\n",
       "</div>"
      ],
      "text/plain": [
       "   age  fnlwgt  education-num  sex  capital-gain  capital-loss  \\\n",
       "0   39   77516             13    1          2174             0   \n",
       "1   50   83311             13    1             0             0   \n",
       "2   38  215646              9    1             0             0   \n",
       "3   53  234721              7    1             0             0   \n",
       "4   28  338409             13    0             0             0   \n",
       "\n",
       "   hours-per-week  income  workclass_Local-gov  workclass_Private  ...  \\\n",
       "0              40       0                    0                  0  ...   \n",
       "1              13       0                    0                  0  ...   \n",
       "2              40       0                    0                  1  ...   \n",
       "3              40       0                    0                  1  ...   \n",
       "4              40       0                    0                  1  ...   \n",
       "\n",
       "   native-country_Portugal  native-country_Puerto-Rico  \\\n",
       "0                        0                           0   \n",
       "1                        0                           0   \n",
       "2                        0                           0   \n",
       "3                        0                           0   \n",
       "4                        0                           0   \n",
       "\n",
       "   native-country_Scotland  native-country_South  native-country_Taiwan  \\\n",
       "0                        0                     0                      0   \n",
       "1                        0                     0                      0   \n",
       "2                        0                     0                      0   \n",
       "3                        0                     0                      0   \n",
       "4                        0                     0                      0   \n",
       "\n",
       "   native-country_Thailand  native-country_Trinadad&Tobago  \\\n",
       "0                        0                               0   \n",
       "1                        0                               0   \n",
       "2                        0                               0   \n",
       "3                        0                               0   \n",
       "4                        0                               0   \n",
       "\n",
       "   native-country_United-States  native-country_Vietnam  \\\n",
       "0                             1                       0   \n",
       "1                             1                       0   \n",
       "2                             1                       0   \n",
       "3                             1                       0   \n",
       "4                             0                       0   \n",
       "\n",
       "   native-country_Yugoslavia  \n",
       "0                          0  \n",
       "1                          0  \n",
       "2                          0  \n",
       "3                          0  \n",
       "4                          0  \n",
       "\n",
       "[5 rows x 97 columns]"
      ]
     },
     "execution_count": 13,
     "metadata": {},
     "output_type": "execute_result"
    }
   ],
   "source": [
    "print(f'Der Datensatz hat nun {data_num.shape[0]} Einträge mit {data_num.shape[1]} Spalten.')\n",
    "data_num.head()"
   ]
  },
  {
   "cell_type": "code",
   "execution_count": 14,
   "id": "426dc942",
   "metadata": {
    "scrolled": true
   },
   "outputs": [],
   "source": [
    "# data_num.info()  # Gibt detailiertere Informationen zu jeder Spalte"
   ]
  },
  {
   "cell_type": "markdown",
   "id": "4c3846df",
   "metadata": {},
   "source": [
    "### Standardisieren folgender numerischen Spalten: \n",
    "- age\n",
    "- fnlwgt\n",
    "- education-num\n",
    "- capital-gain\n",
    "- capital-loss\n",
    "- hours-per-week"
   ]
  },
  {
   "cell_type": "code",
   "execution_count": 15,
   "id": "3a953f15",
   "metadata": {},
   "outputs": [],
   "source": [
    "# Liste der Namen der betroffenen Spalten\n",
    "columns_std = ['age', 'fnlwgt', 'education-num', 'capital-gain', 'capital-loss', 'hours-per-week']  "
   ]
  },
  {
   "cell_type": "code",
   "execution_count": 16,
   "id": "5c3f7caa",
   "metadata": {},
   "outputs": [
    {
     "data": {
      "text/plain": [
       "(30162, 97)"
      ]
     },
     "execution_count": 16,
     "metadata": {},
     "output_type": "execute_result"
    }
   ],
   "source": [
    "# Standardisieren dieser Spalten mittels 'Column Transformer'\n",
    "ct = ColumnTransformer([('transformer', StandardScaler(), columns_std)], remainder='passthrough')\n",
    "data_num_copy = data_num.copy()\n",
    "new_columns = list(data_num_copy.columns)\n",
    "features = data_num_copy[new_columns]\n",
    "data_num_st_ar = ct.fit_transform(features)\n",
    "data_num_st_ar.shape"
   ]
  },
  {
   "cell_type": "markdown",
   "id": "1b680b43",
   "metadata": {},
   "source": [
    "'Column Transformer' gibt ein numpy array mit veränderter Reihung der Spalten zurück: Die transformierten (standardisierten) Spalten befinden sich nun am Beginn des arrays. Bevor das array wieder in einen Dataframe zurückgewandelt wird, muss somit die Reihung der Spaltennamen angepasst werden. "
   ]
  },
  {
   "cell_type": "code",
   "execution_count": 17,
   "id": "e34b71ce",
   "metadata": {
    "scrolled": true
   },
   "outputs": [
    {
     "data": {
      "text/html": [
       "<div>\n",
       "<style scoped>\n",
       "    .dataframe tbody tr th:only-of-type {\n",
       "        vertical-align: middle;\n",
       "    }\n",
       "\n",
       "    .dataframe tbody tr th {\n",
       "        vertical-align: top;\n",
       "    }\n",
       "\n",
       "    .dataframe thead th {\n",
       "        text-align: right;\n",
       "    }\n",
       "</style>\n",
       "<table border=\"1\" class=\"dataframe\">\n",
       "  <thead>\n",
       "    <tr style=\"text-align: right;\">\n",
       "      <th></th>\n",
       "      <th>age</th>\n",
       "      <th>fnlwgt</th>\n",
       "      <th>education-num</th>\n",
       "      <th>capital-gain</th>\n",
       "      <th>capital-loss</th>\n",
       "      <th>hours-per-week</th>\n",
       "      <th>sex</th>\n",
       "      <th>income</th>\n",
       "      <th>workclass_Local-gov</th>\n",
       "      <th>workclass_Private</th>\n",
       "      <th>...</th>\n",
       "      <th>native-country_Portugal</th>\n",
       "      <th>native-country_Puerto-Rico</th>\n",
       "      <th>native-country_Scotland</th>\n",
       "      <th>native-country_South</th>\n",
       "      <th>native-country_Taiwan</th>\n",
       "      <th>native-country_Thailand</th>\n",
       "      <th>native-country_Trinadad&amp;Tobago</th>\n",
       "      <th>native-country_United-States</th>\n",
       "      <th>native-country_Vietnam</th>\n",
       "      <th>native-country_Yugoslavia</th>\n",
       "    </tr>\n",
       "  </thead>\n",
       "  <tbody>\n",
       "    <tr>\n",
       "      <th>0</th>\n",
       "      <td>0.042796</td>\n",
       "      <td>-1.062722</td>\n",
       "      <td>1.128918</td>\n",
       "      <td>0.146092</td>\n",
       "      <td>-0.218586</td>\n",
       "      <td>-0.077734</td>\n",
       "      <td>1.0</td>\n",
       "      <td>0.0</td>\n",
       "      <td>0.0</td>\n",
       "      <td>0.0</td>\n",
       "      <td>...</td>\n",
       "      <td>0.0</td>\n",
       "      <td>0.0</td>\n",
       "      <td>0.0</td>\n",
       "      <td>0.0</td>\n",
       "      <td>0.0</td>\n",
       "      <td>0.0</td>\n",
       "      <td>0.0</td>\n",
       "      <td>1.0</td>\n",
       "      <td>0.0</td>\n",
       "      <td>0.0</td>\n",
       "    </tr>\n",
       "    <tr>\n",
       "      <th>1</th>\n",
       "      <td>0.880288</td>\n",
       "      <td>-1.007871</td>\n",
       "      <td>1.128918</td>\n",
       "      <td>-0.147445</td>\n",
       "      <td>-0.218586</td>\n",
       "      <td>-2.331531</td>\n",
       "      <td>1.0</td>\n",
       "      <td>0.0</td>\n",
       "      <td>0.0</td>\n",
       "      <td>0.0</td>\n",
       "      <td>...</td>\n",
       "      <td>0.0</td>\n",
       "      <td>0.0</td>\n",
       "      <td>0.0</td>\n",
       "      <td>0.0</td>\n",
       "      <td>0.0</td>\n",
       "      <td>0.0</td>\n",
       "      <td>0.0</td>\n",
       "      <td>1.0</td>\n",
       "      <td>0.0</td>\n",
       "      <td>0.0</td>\n",
       "    </tr>\n",
       "    <tr>\n",
       "      <th>2</th>\n",
       "      <td>-0.033340</td>\n",
       "      <td>0.244693</td>\n",
       "      <td>-0.439738</td>\n",
       "      <td>-0.147445</td>\n",
       "      <td>-0.218586</td>\n",
       "      <td>-0.077734</td>\n",
       "      <td>1.0</td>\n",
       "      <td>0.0</td>\n",
       "      <td>0.0</td>\n",
       "      <td>1.0</td>\n",
       "      <td>...</td>\n",
       "      <td>0.0</td>\n",
       "      <td>0.0</td>\n",
       "      <td>0.0</td>\n",
       "      <td>0.0</td>\n",
       "      <td>0.0</td>\n",
       "      <td>0.0</td>\n",
       "      <td>0.0</td>\n",
       "      <td>1.0</td>\n",
       "      <td>0.0</td>\n",
       "      <td>0.0</td>\n",
       "    </tr>\n",
       "    <tr>\n",
       "      <th>3</th>\n",
       "      <td>1.108695</td>\n",
       "      <td>0.425240</td>\n",
       "      <td>-1.224066</td>\n",
       "      <td>-0.147445</td>\n",
       "      <td>-0.218586</td>\n",
       "      <td>-0.077734</td>\n",
       "      <td>1.0</td>\n",
       "      <td>0.0</td>\n",
       "      <td>0.0</td>\n",
       "      <td>1.0</td>\n",
       "      <td>...</td>\n",
       "      <td>0.0</td>\n",
       "      <td>0.0</td>\n",
       "      <td>0.0</td>\n",
       "      <td>0.0</td>\n",
       "      <td>0.0</td>\n",
       "      <td>0.0</td>\n",
       "      <td>0.0</td>\n",
       "      <td>1.0</td>\n",
       "      <td>0.0</td>\n",
       "      <td>0.0</td>\n",
       "    </tr>\n",
       "    <tr>\n",
       "      <th>4</th>\n",
       "      <td>-0.794697</td>\n",
       "      <td>1.406658</td>\n",
       "      <td>1.128918</td>\n",
       "      <td>-0.147445</td>\n",
       "      <td>-0.218586</td>\n",
       "      <td>-0.077734</td>\n",
       "      <td>0.0</td>\n",
       "      <td>0.0</td>\n",
       "      <td>0.0</td>\n",
       "      <td>1.0</td>\n",
       "      <td>...</td>\n",
       "      <td>0.0</td>\n",
       "      <td>0.0</td>\n",
       "      <td>0.0</td>\n",
       "      <td>0.0</td>\n",
       "      <td>0.0</td>\n",
       "      <td>0.0</td>\n",
       "      <td>0.0</td>\n",
       "      <td>0.0</td>\n",
       "      <td>0.0</td>\n",
       "      <td>0.0</td>\n",
       "    </tr>\n",
       "  </tbody>\n",
       "</table>\n",
       "<p>5 rows × 97 columns</p>\n",
       "</div>"
      ],
      "text/plain": [
       "        age    fnlwgt  education-num  capital-gain  capital-loss  \\\n",
       "0  0.042796 -1.062722       1.128918      0.146092     -0.218586   \n",
       "1  0.880288 -1.007871       1.128918     -0.147445     -0.218586   \n",
       "2 -0.033340  0.244693      -0.439738     -0.147445     -0.218586   \n",
       "3  1.108695  0.425240      -1.224066     -0.147445     -0.218586   \n",
       "4 -0.794697  1.406658       1.128918     -0.147445     -0.218586   \n",
       "\n",
       "   hours-per-week  sex  income  workclass_Local-gov  workclass_Private  ...  \\\n",
       "0       -0.077734  1.0     0.0                  0.0                0.0  ...   \n",
       "1       -2.331531  1.0     0.0                  0.0                0.0  ...   \n",
       "2       -0.077734  1.0     0.0                  0.0                1.0  ...   \n",
       "3       -0.077734  1.0     0.0                  0.0                1.0  ...   \n",
       "4       -0.077734  0.0     0.0                  0.0                1.0  ...   \n",
       "\n",
       "   native-country_Portugal  native-country_Puerto-Rico  \\\n",
       "0                      0.0                         0.0   \n",
       "1                      0.0                         0.0   \n",
       "2                      0.0                         0.0   \n",
       "3                      0.0                         0.0   \n",
       "4                      0.0                         0.0   \n",
       "\n",
       "   native-country_Scotland  native-country_South  native-country_Taiwan  \\\n",
       "0                      0.0                   0.0                    0.0   \n",
       "1                      0.0                   0.0                    0.0   \n",
       "2                      0.0                   0.0                    0.0   \n",
       "3                      0.0                   0.0                    0.0   \n",
       "4                      0.0                   0.0                    0.0   \n",
       "\n",
       "   native-country_Thailand  native-country_Trinadad&Tobago  \\\n",
       "0                      0.0                             0.0   \n",
       "1                      0.0                             0.0   \n",
       "2                      0.0                             0.0   \n",
       "3                      0.0                             0.0   \n",
       "4                      0.0                             0.0   \n",
       "\n",
       "   native-country_United-States  native-country_Vietnam  \\\n",
       "0                           1.0                     0.0   \n",
       "1                           1.0                     0.0   \n",
       "2                           1.0                     0.0   \n",
       "3                           1.0                     0.0   \n",
       "4                           0.0                     0.0   \n",
       "\n",
       "   native-country_Yugoslavia  \n",
       "0                        0.0  \n",
       "1                        0.0  \n",
       "2                        0.0  \n",
       "3                        0.0  \n",
       "4                        0.0  \n",
       "\n",
       "[5 rows x 97 columns]"
      ]
     },
     "execution_count": 17,
     "metadata": {},
     "output_type": "execute_result"
    }
   ],
   "source": [
    "columns_rearranged = list(data_num_copy.columns)\n",
    "columns_rearranged.remove('sex')  # Das Attribut 'sex' muss nach hinten gereiht werden \n",
    "insert_index = columns_rearranged.index(columns_std[-1])+1  # Index nach der letzten transformierten Spalte (6)\n",
    "columns_rearranged.insert(insert_index, 'sex')\n",
    "final_data = pd.DataFrame(data=data_num_st_ar, columns=columns_rearranged)\n",
    "final_data.head()"
   ]
  },
  {
   "cell_type": "code",
   "execution_count": 18,
   "id": "b85a4f69",
   "metadata": {},
   "outputs": [
    {
     "name": "stdout",
     "output_type": "stream",
     "text": [
      "OK - No NaN values.\n"
     ]
    }
   ],
   "source": [
    "# Vor dem Training wird hier nochmal überprüft, ob sich in den finalen Daten keine NaN Werte mehr befinden\n",
    "nan_error = False\n",
    "for column in final_data:\n",
    "    if final_data[column].isnull().values.any():\n",
    "        nan_error = True\n",
    "        print('Encountered NaN in column ' + column)\n",
    "if not nan_error: \n",
    "    print('OK - No NaN values.')"
   ]
  },
  {
   "cell_type": "markdown",
   "id": "d124a280",
   "metadata": {},
   "source": [
    "### Teilen der Daten für Training und Testing\n",
    "Zum Trainieren des Modells werden die Labels ('income') aus den Daten separiert. Außerdem wird der Datensatz in Training und Testdaten geteilt."
   ]
  },
  {
   "cell_type": "code",
   "execution_count": 19,
   "id": "37380eb9",
   "metadata": {},
   "outputs": [],
   "source": [
    "X = final_data.drop(columns=['income'])\n",
    "y = final_data['income']"
   ]
  },
  {
   "cell_type": "code",
   "execution_count": 20,
   "id": "e193b122",
   "metadata": {},
   "outputs": [],
   "source": [
    "# 70% Training, 30% Testing\n",
    "X_train, X_test, y_train, y_test = train_test_split(X, y, test_size=0.3, random_state=42)"
   ]
  },
  {
   "cell_type": "code",
   "execution_count": 21,
   "id": "13bc482b",
   "metadata": {},
   "outputs": [
    {
     "name": "stdout",
     "output_type": "stream",
     "text": [
      "X_train: (21113, 96)\n",
      "y_train: (21113,)\n",
      "X_test: (9049, 96)\n",
      "y_test: (9049,)\n"
     ]
    }
   ],
   "source": [
    "print(f'X_train: {X_train.shape}')\n",
    "print(f'y_train: {y_train.shape}')\n",
    "print(f'X_test: {X_test.shape}')\n",
    "print(f'y_test: {y_test.shape}')"
   ]
  },
  {
   "cell_type": "markdown",
   "id": "d6d45b0e",
   "metadata": {},
   "source": [
    "# Trainieren des voreingenommenen Baseline Modells"
   ]
  },
  {
   "cell_type": "markdown",
   "id": "02f4332c",
   "metadata": {},
   "source": [
    "Für den Klassifikator wird ein einfaches logistisches Regressionsmodell verwendet, da der Fokus dieses Versuches auf dem Erkennen und Vermeiden von algorithmischer Voreingenommenheit liegt."
   ]
  },
  {
   "cell_type": "code",
   "execution_count": 22,
   "id": "08d4a992",
   "metadata": {},
   "outputs": [
    {
     "data": {
      "text/plain": [
       "LogisticRegression(max_iter=1000, random_state=0)"
      ]
     },
     "execution_count": 22,
     "metadata": {},
     "output_type": "execute_result"
    }
   ],
   "source": [
    "model_baseline = LogisticRegression(random_state=0, solver='lbfgs', max_iter=1000)  \n",
    "model_baseline.fit(X_train, y_train)"
   ]
  },
  {
   "cell_type": "code",
   "execution_count": 23,
   "id": "d7c45afe",
   "metadata": {},
   "outputs": [],
   "source": [
    "# Vorhersagen der Testdaten\n",
    "predicted_classes = model_baseline.predict(X_test)"
   ]
  },
  {
   "cell_type": "code",
   "execution_count": 24,
   "id": "409bd6c2",
   "metadata": {},
   "outputs": [
    {
     "data": {
      "text/plain": [
       "0.8511437727925738"
      ]
     },
     "execution_count": 24,
     "metadata": {},
     "output_type": "execute_result"
    }
   ],
   "source": [
    "accuracy_score(predicted_classes, y_test)"
   ]
  },
  {
   "cell_type": "markdown",
   "id": "b5b6d647",
   "metadata": {},
   "source": [
    "Der Klassifikator erreicht eine Genauigkeit von etwa 85,1%. Aber wie sieht es mit der Fairness aus?"
   ]
  },
  {
   "cell_type": "markdown",
   "id": "7e42b4e8",
   "metadata": {},
   "source": [
    "# Fairness Metriken"
   ]
  },
  {
   "cell_type": "markdown",
   "id": "a8eb8b53",
   "metadata": {},
   "source": [
    "## Disparate Impact & Statistical Parity"
   ]
  },
  {
   "cell_type": "markdown",
   "id": "0acff4a1",
   "metadata": {},
   "source": [
    "Fairnessmetriken wie diese werden anhand der Ergebnisverteilung und/oder deren Richtigkeit bezogen auf die Ground Truth berechnet und können je nach Bedarf selbst implementiert werden. Zwei Metriken werden hier beispielhaft selbst implementiert, später werden auch implementierte Metriken der AIF360 Bibliothek verwendet. <br> \n",
    "Zuerst wird die Disparate Impact Metrik und die Statistical Parity Metrik für den ursprünglichen Datensatz berechnet, welche sich beide auf die Verteilung der positiven Resultate für beide Gruppen beziehen. Die Statistical Parity Metrik beschreibt die Differenz der Raten aller positiven Resultate der geschützten Gruppe zu jener der privilegierten und ist bei einem Wert von 1 fair. Die Disparate Impact Metrik beschreibt das Verhältnis der Raten und gilt bei einem Ergebnis von 0 als fair. Da beide Metriken auf der Positiv-Rate basieren, wurde zuerst eine Methode implementiert, die diese Raten (relativer Anteil der positiven '>50K' Labels einer Gruppe) für Frauen als auch für Männer aus den Daten, der Ground Truth und dem angegebenen sensitiven Attribut berechnet:"
   ]
  },
  {
   "cell_type": "code",
   "execution_count": 25,
   "id": "b6ffaf51",
   "metadata": {},
   "outputs": [],
   "source": [
    "# Methode, die die Rate der positiven Labels (>50K) zurückgibt\n",
    "\n",
    "def get_p_ratios(X, sens_attr, y):\n",
    "    # Dataframe mit allen Einträgen mit sensitivem Attribut \"Male\"\n",
    "    data_males = X[X[sens_attr] == 1.0]\n",
    "    data_males_num = data_males.shape[0]\n",
    "    \n",
    "    # Dataframe mit allen Einträgen mit sensitivem Attribut \"Female\"\n",
    "    data_females = X[X[sens_attr] == 0.0]\n",
    "    data_females_num = data_females.shape[0]\n",
    "    \n",
    "    # Überprüfen ob die berechneten Zahlen mit dem ursprünglichen Datensatz übereinstimmen\n",
    "    if (data_males_num + data_females_num) != X.shape[0]:\n",
    "        print('ERROR: Datenanzahl stimmt nicht mit dem Datensatz überein')\n",
    "        \n",
    "    # Positiv-Raten berechnen\n",
    "    y_male = y[X[sens_attr] == 1.0]\n",
    "    y_female = y[X[sens_attr] == 0.0]\n",
    "       \n",
    "    # 'Male'\n",
    "    male_outcomes = data_males[y_male == 1.0].shape[0]  # Anzahl der positiven Labels\n",
    "    male_p_ratio = male_outcomes/data_males_num  # Positiv-Rate\n",
    " \n",
    "    # 'Female'\n",
    "    female_outcomes = data_females[y_female == 1.0].shape[0]  # Anzahl der positiven Labels\n",
    "    female_p_ratio = female_outcomes/data_females_num  # Positiv-Rate\n",
    "\n",
    "    return male_p_ratio, female_p_ratio "
   ]
  },
  {
   "cell_type": "markdown",
   "id": "7ed97b7b",
   "metadata": {},
   "source": [
    "Die Methoden zur Disparate Impact und Statistical Parity Metrik rufen get_p_ratio() auf und verrechnen deren Ergebnisse auf unterschiedliche Weise:"
   ]
  },
  {
   "cell_type": "code",
   "execution_count": 26,
   "id": "d14a9e6d",
   "metadata": {},
   "outputs": [],
   "source": [
    "def disparate_impact(X, sens_attr, y):\n",
    "\n",
    "    male_p_ratio, female_p_ratio = get_p_ratios(X, sens_attr, y) \n",
    "        \n",
    "    disparate_impact_ratio = female_p_ratio/male_p_ratio \n",
    " \n",
    "    return disparate_impact_ratio"
   ]
  },
  {
   "cell_type": "code",
   "execution_count": 27,
   "id": "8f105da0",
   "metadata": {},
   "outputs": [],
   "source": [
    "def statistical_parity_difference(X, sens_attr, y):\n",
    "\n",
    "    male_p_ratio, female_p_ratio = get_p_ratios(X, sens_attr, y)  \n",
    "    \n",
    "    statistical_parity_difference = female_p_ratio - male_p_ratio \n",
    "  \n",
    "    return statistical_parity_difference"
   ]
  },
  {
   "cell_type": "markdown",
   "id": "3e721bb3",
   "metadata": {},
   "source": [
    "### Evaluierung: AV im Datensatz und Baseline Modell"
   ]
  },
  {
   "cell_type": "markdown",
   "id": "42399f26",
   "metadata": {},
   "source": [
    "Nun können beide Metriken für den ursprünglichen Datensatz, sowie für die Vorhersagen des Modells berechnet und visualisiert werden:"
   ]
  },
  {
   "cell_type": "code",
   "execution_count": 28,
   "id": "8cb50ef9",
   "metadata": {},
   "outputs": [
    {
     "data": {
      "text/markdown": [
       "#### Fairness des originalen Datensatzes"
      ],
      "text/plain": [
       "<IPython.core.display.Markdown object>"
      ]
     },
     "metadata": {},
     "output_type": "display_data"
    },
    {
     "name": "stdout",
     "output_type": "stream",
     "text": [
      "Disparate Impact:               0.3636437914754868\n",
      "Statistical Parity Difference: -0.19865466248420066\n"
     ]
    },
    {
     "data": {
      "text/markdown": [
       "#### Fairness des Baseline Modells"
      ],
      "text/plain": [
       "<IPython.core.display.Markdown object>"
      ]
     },
     "metadata": {},
     "output_type": "display_data"
    },
    {
     "name": "stdout",
     "output_type": "stream",
     "text": [
      "Disparate Impact:               0.2995328708058701\n",
      "Statistical Parity Difference: -0.1831622258645452\n"
     ]
    }
   ],
   "source": [
    "# Unterschiede für positive Ergebnisse für geschützte und privilegierte Gruppe\n",
    "\n",
    "disparate_impact_baseline_dataset = disparate_impact(X_train, 'sex', y_train)\n",
    "statistical_parity_baseline_dataset = statistical_parity_difference(X_train, 'sex', y_train)\n",
    "disparate_impact_baseline_model = disparate_impact(X_test, 'sex', predicted_classes)\n",
    "statistical_parity_baseline_model = statistical_parity_difference(X_test, 'sex', predicted_classes)\n",
    "\n",
    "\n",
    "display(Markdown(\"#### Fairness des originalen Datensatzes\"))\n",
    "print(f\"Disparate Impact:               {str(disparate_impact_baseline_dataset)}\") \n",
    "print(f\"Statistical Parity Difference: {str(statistical_parity_baseline_dataset)}\")\n",
    " \n",
    "display(Markdown(\"#### Fairness des Baseline Modells\"))\n",
    "print(f\"Disparate Impact:               {str(disparate_impact_baseline_model)}\")\n",
    "print(f\"Statistical Parity Difference: {str(statistical_parity_baseline_model)}\")"
   ]
  },
  {
   "cell_type": "code",
   "execution_count": 29,
   "id": "b71b1df1",
   "metadata": {},
   "outputs": [],
   "source": [
    "# Visualisierungen der Metriken\n",
    "\n",
    "def plot_metric(metricname, metricvalue, ax):\n",
    "    \n",
    "    ax.bar(metricname, metricvalue, color='grey')\n",
    "    ax.set_ylabel('fair', loc='center', rotation=0)\n",
    "    \n",
    "    if metricname == 'fnrr':\n",
    "        ax.axhspan(1, 2, facecolor='red', alpha=0.06)\n",
    "        ax.yaxis.set_label_coords(1.1, 0.48)\n",
    "        ax.axhline(1, color='grey', linewidth=0.8)\n",
    "        ax.set_ylim(0,2)\n",
    "    elif metricname == 'disp_imp' or metricname == 'fprr':\n",
    "        ax.yaxis.set_label_coords(1.1, 0.48)\n",
    "        ax.axhline(1, color='grey', linewidth=0.8)\n",
    "        ax.set_ylim(0,2)\n",
    "        ax.axhspan(0, 1, facecolor='red', alpha=0.06)\n",
    "    elif metricname == 'stat_par_diff' or metricname == 'fnrr' or metricname == 'avg_odds_diff' or metricname == 'eq_opp_diff':\n",
    "        ax.yaxis.set_label_coords(1.1, 0.48)\n",
    "        ax.axhline(0, color='grey', linewidth=0.8)\n",
    "        ax.set_ylim(-1,1)\n",
    "        ax.axhspan(-1, 0, facecolor='red', alpha=0.06)\n",
    "    elif metricname == 'theil_ind':\n",
    "        ax.yaxis.set_label_coords(1.1, -0.02)\n",
    "        ax.axhline(0, color='grey', linewidth=0.8)\n",
    "        ax.set_ylim(0,2)\n",
    "    elif metricname == 'err_r_diff':\n",
    "        ax.yaxis.set_label_coords(1.1, 0.48)\n",
    "        ax.axhline(0, color='grey', linewidth=0.8)\n",
    "        ax.set_ylim(-1,1)\n",
    "        ax.axhspan(0, 1.5, facecolor='red', alpha=0.06)\n",
    "    \n",
    "    ax.bar(metricname, metricvalue, color='grey')\n",
    "    #red_patch = mpatches.Patch(color='red', alpha=0.1, label='voreingenommen')\n",
    "    #ax.legend(handles=[red_patch])"
   ]
  },
  {
   "cell_type": "code",
   "execution_count": 30,
   "id": "b81febd6",
   "metadata": {},
   "outputs": [
    {
     "data": {
      "text/markdown": [
       "### Disparate Impact und Statistical Parity"
      ],
      "text/plain": [
       "<IPython.core.display.Markdown object>"
      ]
     },
     "metadata": {},
     "output_type": "display_data"
    },
    {
     "data": {
      "text/markdown": [
       "#### Datensatz (links) - Vorhersagen des Modells (rechts)"
      ],
      "text/plain": [
       "<IPython.core.display.Markdown object>"
      ]
     },
     "metadata": {},
     "output_type": "display_data"
    },
    {
     "data": {
      "image/png": "[encoded data removed]",
      "text/plain": [
       "<Figure size 720x720 with 4 Axes>"
      ]
     },
     "metadata": {
      "needs_background": "light"
     },
     "output_type": "display_data"
    }
   ],
   "source": [
    "display(Markdown(\"### Disparate Impact und Statistical Parity\"))\n",
    "display(Markdown(\"#### Datensatz (links) - Vorhersagen des Modells (rechts)\"))\n",
    "\n",
    "fig, ax = plt.subplots(2, 2, figsize=(10,10))\n",
    "fig.subplots_adjust(left=None, bottom=None, right=None, top=None, wspace=0.3, hspace=None)\n",
    "\n",
    "plot_metric('disp_imp', disparate_impact_baseline_dataset, ax[0,0])\n",
    "plot_metric('disp_imp', disparate_impact_baseline_model, ax[0,1])\n",
    "\n",
    "plot_metric('stat_par_diff', statistical_parity_baseline_dataset, ax[1,0])\n",
    "plot_metric('stat_par_diff', statistical_parity_baseline_model, ax[1,1])\n",
    "\n",
    "plt.show()"
   ]
  },
  {
   "cell_type": "markdown",
   "id": "4ea2f303",
   "metadata": {},
   "source": [
    "Laut den Ergebnissen der beiden Metriken erreicht der Klassifikator keine algorithmische Fairness. Schon der Datensatz weist Voreingenommenheiten auf, die Disparate Impact Metrik erreicht gar nur einen Wert von ca. 0,36, wobei ein Wert von 1 wünschenswert wäre. Das bedeutet, dass Männer 2,8-mal (1/0,36) so oft ein positives Ergebnis im Datensatz aufweisen wie Frauen. Im Modell wurde dieser Effekt verstärkt, mit einem Disparate Impact Wert von etwa 0,3 wird Männern nach dem Training 3,3-mal so oft ein hohes Einkommen zugeschrieben wie Frauen. <br>\n",
    "Was zunächst vielleicht verwunderlich erscheint: Wieso wird die Statistical Parity Metrik kleiner, d.h. \"fairer\", wenn das Modell laut Disparate Impact Metrik \"unfairer\" wird? Dieser Effekt zeigt, dass es nicht möglich ist, einen Klassifikator als allgemein \"fair\" oder \"unfair\" zu definieren, es kommt immer auf die Wahl der Metrik an, anhand welcher die Fairness gemessen wird. Die Disparate Impact Metrik gibt das Verhältnis der Positiv-Raten an, die Statistical Parity Metrik die Differenz. Relativ gesehen unterschieden sich die Raten der Modell-Vorhersagen mehr als zuvor, weshalb das Modell laut Disparate Impact Metrik \"unfairer\" wird. Insgesamt sinken jedoch die Positiv-Raten für beide Gruppen etwas, weshalb der absolute Unterschied ebenfalls sinkt und das Modell laut Statistical Parity Metrik \"fairer\" wird. Je nach Anwendungsfall, und vor allem späteren Einsatzbereich des Modells, müssen daher Metriken favorisiert werden. Ein Erreichen eines perfekten Fairnesswertes ist dabei generell sehr schwierig. Es ist daher üblich, einen Mindestwert zu definieren, der pro Metrik erreicht werden sollte. Die Mindestwerte der verwendeten Metriken hängen vom individuell gesetzten Ziel für die Fairness des Klassifikators ab. Dient der Klassifikator z.B. der Evaluierung von Bewerber*innen eines Kredites, kann algorithmische Voreingenommenheit direkte, allokative Schäden bedeuten, was weniger Spielraum für die Ergebnisse der Fairnessmetriken lässt.\n"
   ]
  },
  {
   "cell_type": "markdown",
   "id": "118bdfc0",
   "metadata": {},
   "source": [
    "## Weitere Metriken zur Evaluierung des Modells"
   ]
  },
  {
   "cell_type": "markdown",
   "id": "de38b78a",
   "metadata": {},
   "source": [
    "Ähnlich der beschriebenen Vorgehensweise können je nach Anforderungen des Modells beliebige Fairnessmetriken selbst definiert und angewendet werden. Aber auch verschiedene Open Source Bibliotheken stellen eine Vielzahl an bereits vordefinierten und implementierten Metriken zur Verfügung. In diesem Versuch werden einige weitere Metriken der AI Fairness 360 Bibliothek zur Messung der AV in den Vorhersagen des Modells evaluiert. Die verwendeten Metriken basieren nicht nur auf dem Verhältnis der positiven Ergebnisse, sondern auch auf Werten zu den True/False Positives/Negatives, individueller Fairness sowie Fehlerraten. \n",
    "<br> \n",
    "Die AIF360 Bibliothek setzt zunächst das Transformieren des Datensatzes in einen eigenes \"BinaryLabelDataset\" voraus."
   ]
  },
  {
   "cell_type": "markdown",
   "id": "64f841e8",
   "metadata": {},
   "source": [
    "### Umwandeln des Datensatzes in ein AIF360 BinaryLabelDataset"
   ]
  },
  {
   "cell_type": "code",
   "execution_count": 31,
   "id": "423c27fd",
   "metadata": {},
   "outputs": [],
   "source": [
    "# Umwandeln der Trainingsdaten\n",
    "# BinaryLabelDatasets beinhalten die Attribute sowie die zugehörigen Labels \n",
    "data_aif_train = pd.concat([X_train, y_train], axis=1)\n",
    "\n",
    "X_aif_train = aif360.datasets.BinaryLabelDataset(\n",
    "    favorable_label=1,  # Positives Label für 'income'\n",
    "    unfavorable_label=0,  # Negatives Label für 'income'\n",
    "    df=data_aif_train,  # Attribute\n",
    "    label_names=['income'],  # Name der Label-Spalte \n",
    "    protected_attribute_names=['sex'])  # Name des betrachteten sensitiven Attributes\n",
    "\n",
    "# Umwandeln der Testdaten\n",
    "data_aif_test = pd.concat([X_test, y_test], axis=1)\n",
    "\n",
    "X_aif_test = aif360.datasets.BinaryLabelDataset(\n",
    "    favorable_label=1,\n",
    "    unfavorable_label=0,\n",
    "    df=data_aif_test,\n",
    "    label_names=['income'],\n",
    "    protected_attribute_names=['sex'])"
   ]
  },
  {
   "cell_type": "code",
   "execution_count": 32,
   "id": "ccf7acfa",
   "metadata": {},
   "outputs": [],
   "source": [
    "# Methode zum Beschreiben der BinaryLabelDatasets\n",
    "\n",
    "def describe_data(traindata=None, valdata=None, testdata=None):\n",
    "    \n",
    "    if traindata is not None:\n",
    "        display(Markdown(\"#### Training Datensatz: .shape\"))\n",
    "        print(traindata.features.shape)\n",
    "        \n",
    "    if valdata is not None:\n",
    "        display(Markdown(\"#### Validation Datensatz: .shape\"))\n",
    "        print(valdata.features.shape)\n",
    "        \n",
    "    display(Markdown(\"#### Testing Datensatz: .shape\"))\n",
    "    print(testdata.features.shape)\n",
    "    \n",
    "    display(Markdown(\"#### Positives und Negatives Label\"))\n",
    "    print(testdata.favorable_label, testdata.unfavorable_label)\n",
    "    \n",
    "    display(Markdown(\"#### Sensitives Attribut, privilegiert und geschützt\"))\n",
    "    print(testdata.protected_attribute_names, testdata.privileged_protected_attributes, testdata.unprivileged_protected_attributes)\n",
    "        \n",
    "    display(Markdown(\"#### Spaltennamen\"))\n",
    "    print(testdata.feature_names)"
   ]
  },
  {
   "cell_type": "code",
   "execution_count": 33,
   "id": "ebc19349",
   "metadata": {
    "scrolled": true
   },
   "outputs": [
    {
     "data": {
      "text/markdown": [
       "#### Training Datensatz: .shape"
      ],
      "text/plain": [
       "<IPython.core.display.Markdown object>"
      ]
     },
     "metadata": {},
     "output_type": "display_data"
    },
    {
     "name": "stdout",
     "output_type": "stream",
     "text": [
      "(21113, 96)\n"
     ]
    },
    {
     "data": {
      "text/markdown": [
       "#### Testing Datensatz: .shape"
      ],
      "text/plain": [
       "<IPython.core.display.Markdown object>"
      ]
     },
     "metadata": {},
     "output_type": "display_data"
    },
    {
     "name": "stdout",
     "output_type": "stream",
     "text": [
      "(9049, 96)\n"
     ]
    },
    {
     "data": {
      "text/markdown": [
       "#### Positives und Negatives Label"
      ],
      "text/plain": [
       "<IPython.core.display.Markdown object>"
      ]
     },
     "metadata": {},
     "output_type": "display_data"
    },
    {
     "name": "stdout",
     "output_type": "stream",
     "text": [
      "1.0 0.0\n"
     ]
    },
    {
     "data": {
      "text/markdown": [
       "#### Sensitives Attribut, privilegiert und geschützt"
      ],
      "text/plain": [
       "<IPython.core.display.Markdown object>"
      ]
     },
     "metadata": {},
     "output_type": "display_data"
    },
    {
     "name": "stdout",
     "output_type": "stream",
     "text": [
      "['sex'] [array([1.])] [array([0.])]\n"
     ]
    },
    {
     "data": {
      "text/markdown": [
       "#### Spaltennamen"
      ],
      "text/plain": [
       "<IPython.core.display.Markdown object>"
      ]
     },
     "metadata": {},
     "output_type": "display_data"
    },
    {
     "name": "stdout",
     "output_type": "stream",
     "text": [
      "['age', 'fnlwgt', 'education-num', 'capital-gain', 'capital-loss', 'hours-per-week', 'sex', 'workclass_Local-gov', 'workclass_Private', 'workclass_Self-emp-inc', 'workclass_Self-emp-not-inc', 'workclass_State-gov', 'workclass_Without-pay', 'education_11th', 'education_12th', 'education_1st-4th', 'education_5th-6th', 'education_7th-8th', 'education_9th', 'education_Assoc-acdm', 'education_Assoc-voc', 'education_Bachelors', 'education_Doctorate', 'education_HS-grad', 'education_Masters', 'education_Preschool', 'education_Prof-school', 'education_Some-college', 'marital-status_Married-AF-spouse', 'marital-status_Married-civ-spouse', 'marital-status_Married-spouse-absent', 'marital-status_Never-married', 'marital-status_Separated', 'marital-status_Widowed', 'occupation_Armed-Forces', 'occupation_Craft-repair', 'occupation_Exec-managerial', 'occupation_Farming-fishing', 'occupation_Handlers-cleaners', 'occupation_Machine-op-inspct', 'occupation_Other-service', 'occupation_Priv-house-serv', 'occupation_Prof-specialty', 'occupation_Protective-serv', 'occupation_Sales', 'occupation_Tech-support', 'occupation_Transport-moving', 'relationship_Not-in-family', 'relationship_Other-relative', 'relationship_Own-child', 'relationship_Unmarried', 'relationship_Wife', 'race_Asian-Pac-Islander', 'race_Black', 'race_Other', 'race_White', 'native-country_Canada', 'native-country_China', 'native-country_Columbia', 'native-country_Cuba', 'native-country_Dominican-Republic', 'native-country_Ecuador', 'native-country_El-Salvador', 'native-country_England', 'native-country_France', 'native-country_Germany', 'native-country_Greece', 'native-country_Guatemala', 'native-country_Haiti', 'native-country_Holand-Netherlands', 'native-country_Honduras', 'native-country_Hong', 'native-country_Hungary', 'native-country_India', 'native-country_Iran', 'native-country_Ireland', 'native-country_Italy', 'native-country_Jamaica', 'native-country_Japan', 'native-country_Laos', 'native-country_Mexico', 'native-country_Nicaragua', 'native-country_Outlying-US(Guam-USVI-etc)', 'native-country_Peru', 'native-country_Philippines', 'native-country_Poland', 'native-country_Portugal', 'native-country_Puerto-Rico', 'native-country_Scotland', 'native-country_South', 'native-country_Taiwan', 'native-country_Thailand', 'native-country_Trinadad&Tobago', 'native-country_United-States', 'native-country_Vietnam', 'native-country_Yugoslavia']\n"
     ]
    }
   ],
   "source": [
    "# Ausgeben einiger Informationen zu den Datensätzen\n",
    "describe_data(traindata = X_aif_train, testdata = X_aif_test)"
   ]
  },
  {
   "cell_type": "markdown",
   "id": "8006d3dc",
   "metadata": {},
   "source": [
    "### Anwenden der AIF360 Fairnessmetriken auf die Vorhersagen des Modells\n",
    "Im Folgenden werden einige Metriken der AIF360 Bibliothek zur Evaluierung der Fairness herangezogen. Verwendet werden:\n",
    "- <b> Accuracy: </b> Klassifikationsgenauigkeit\n",
    "- <b> Disparate Impact: </b> Implementierung der zuvor selbst geschriebenen Metrik zum Verhältnis der Positiv-Raten\n",
    "- <b> False Negative Rate Ratio: </b> Verhältnis der zu Unrecht negativ klassifizierten Fälle beider Gruppen\n",
    "- <b> False Positive Rate Ratio: </b> Verhältnis der zu Unrecht positiv klassifizierten Fälle beider Gruppen\n",
    "- <b> Statistical Parity Difference: </b> Implementierung der zuvor selbst geschriebenen Metrik zur Differenz der Positiv-Raten\n",
    "- <b> Average Odds Difference: </b> Durchschnittliche Differenz in False Positive (zu Unrecht positiv) und True Positive (zu Recht positiv) Raten beider Gruppen\n",
    "- <b> Equal Opportunity Difference: </b> Differenz der True Positive (zu Recht positiv) Raten zwischen beiden Gruppen\n",
    "- <b> Theil Index: </b> gibt an, wie stark Ungleichheiten in den Resultaten von Unterschieden zwischen Einzelpersonen zwischen den Gruppen abhängen\n",
    "- <b> Error Rate Difference: </b> Unterschied in den Raten falsch klassifizierter Fälle beider Gruppen"
   ]
  },
  {
   "cell_type": "code",
   "execution_count": 34,
   "id": "2cf6a3ca",
   "metadata": {},
   "outputs": [],
   "source": [
    "privileged_group = [{'sex': 1}]\n",
    "unprivileged_group = [{'sex': 0}]"
   ]
  },
  {
   "cell_type": "code",
   "execution_count": 35,
   "id": "127f6305",
   "metadata": {},
   "outputs": [],
   "source": [
    "# Methode zum Berechnen der AIF360 Metriken\n",
    "\n",
    "def get_aif_metrics(X_aif_test, predictions):\n",
    "\n",
    "    metrics = {}\n",
    "\n",
    "    # Erstellen eines BinaryLabelDataset mit den Modellvorhersagen als Labels\n",
    "    data_pred = X_aif_test.copy()\n",
    "    data_pred.labels = predictions\n",
    "\n",
    "    metric = ClassificationMetric(  # ClassificationMetric berechnet Metriken basierend auf den vorhergesagten Resultaten und der Ground Truth\n",
    "            X_aif_test, data_pred,\n",
    "            unprivileged_groups=unprivileged_group,\n",
    "            privileged_groups=privileged_group)\n",
    "    \n",
    "    # Metriken mit optimalem Ergebnis = 1\n",
    "    metrics['acc'] = (metric.accuracy()) \n",
    "\n",
    "    metrics['disp_imp'] = (metric.disparate_impact())  # Wertebereich: -1 bis 1; disp_imp < 1: Nachteil für geschützte Gruppe\n",
    "    metrics['fprr'] = (metric.false_positive_rate_ratio())  # Wertebereich; 0+; FPRR < 1: Nachteil für geschützte Gruppe\n",
    "    metrics['fnrr'] = (metric.false_negative_rate_ratio())  # Wertebereich: 0+; FNRR > 1: Nachteil für geschützte Gruppe\n",
    "\n",
    "    # Metriken mit optimalem Ergebnis = 0\n",
    "    metrics['stat_par_diff'] = (metric.statistical_parity_difference())  # Wertebereich: -1 bis 1; stat_par_diff < 0: Nachteil für geschützte Gruppe  \n",
    "    metrics['avg_odds_diff'] = (metric.average_odds_difference())  # Wertebereich: -1 bis 1; avg_odds_diff < 0: Nachteil für geschützte Gruppe \n",
    "    metrics['eq_opp_diff'] = (metric.equal_opportunity_difference())  # Wertebereich: -1 bis 1; eq_opp_diff < 0: Nachteil für geschützte Gruppe \n",
    "    metrics['theil_ind'] = (metric.theil_index())  # Wertebereich: 0+; theil_ind > 0: Ungleichheit in der Leistungsverteilung für Individuen  \n",
    "    metrics['err_r_diff'] = (metric.error_rate_difference())  # Wertebereich: -1 bis 1; err_r_dif > 0: Nachteil für geschützte Gruppe \n",
    "    return metrics"
   ]
  },
  {
   "cell_type": "code",
   "execution_count": 36,
   "id": "3814e2e6",
   "metadata": {},
   "outputs": [],
   "source": [
    "# Methode zum Ausgeben der AIF360 Metriken\n",
    "\n",
    "def describe_aif_metrics(metrics):\n",
    "\n",
    "    print(\"Accuracy:                              {:6.2f}%\".format((metrics['acc'])*100))\n",
    "    print(\"Disparate Impact:                        {:6.4f}\".format(metrics['disp_imp']))\n",
    "    print(\"False Positive Rate Ratio:               {:6.4f}\".format(metrics['fprr'])) \n",
    "    print(\"False Negative Rate Ratio:               {:6.4f}\".format(metrics['fnrr']))  \n",
    "    \n",
    "    print(\"Statistical Parity Difference:          {:6.4f}\".format(metrics['stat_par_diff']))\n",
    "    print(\"Equalized/Average odds difference:      {:6.4f}\".format(metrics['avg_odds_diff']))\n",
    "    print(\"Equal opportunity difference:           {:6.4f}\".format(metrics['eq_opp_diff']))\n",
    "    print(\"Theil index:                             {:6.4f}\".format(metrics['theil_ind']))\n",
    "    print(\"Error Rate Difference:                  {:6.4f}\".format(metrics['err_r_diff']))  \n",
    "   "
   ]
  },
  {
   "cell_type": "code",
   "execution_count": 37,
   "id": "be30a297",
   "metadata": {},
   "outputs": [],
   "source": [
    "# Methode zum Visualisieren der Metrik-Ergebnisse des Baselinemodells als Scatterplot\n",
    "\n",
    "def plot_aif_metrics(aif_metrics_baseline):\n",
    "    \n",
    "    fig = plt.figure(figsize=(15, 5))\n",
    "    gs = gridspec.GridSpec(1, 3, width_ratios=[1,3,5]) \n",
    "    ax0 = plt.subplot(gs[0])\n",
    "    ax1 = plt.subplot(gs[1])\n",
    "    ax2 = plt.subplot(gs[2])\n",
    "    \n",
    "    x_coord = 0\n",
    "    for metric in aif_metrics_baseline:\n",
    "        if metric == 'acc':\n",
    "            ax0.scatter(metric, aif_metrics_baseline[metric], label=\"before mitigation\", color = \"black\")\n",
    "        elif metric == 'disp_imp' or metric == 'fnrr' or metric == 'fprr':\n",
    "            ax1.scatter(metric, aif_metrics_baseline[metric], label=\"before mitigation\", color = \"darkgreen\")\n",
    "        else: \n",
    "            ax2.scatter(metric, aif_metrics_baseline[metric], label=\"before mitigation\", color = \"darkblue\")\n",
    "        x_coord += 1\n",
    "   \n",
    "    ax0.set_ylim(0,1)\n",
    "    ax0.set_title('Genauigkeit')\n",
    "    ax0.set_yticks(np.arange(0, 1, step=0.1))\n",
    "    ax0.axhspan(0, 0.75, 0, 1, facecolor='red', alpha=0.02)\n",
    "    ax0.axhspan(0.75, 1, 0, 1, facecolor='green', alpha=0.05)\n",
    "    black_patch = mpatches.Patch(color='black', label='acc')\n",
    "    ax0.legend(handles=[black_patch], loc='lower left')\n",
    "    \n",
    "    ax1.set_ylim(0, 2)\n",
    "    ax1.set_title('Fairness = 1')\n",
    "    ax1.set_yticks(np.arange(0, 2, step=0.2))\n",
    "    ax1.hlines(1, -0.5, 2.5, color='green', linewidth=0.8)\n",
    "    ax1.axhspan(0, 1, 0, 0.7, facecolor='red', alpha=0.02)\n",
    "    ax1.axhspan(1, 2, 0, 0.7, facecolor='green', alpha=0.05)\n",
    "    ax1.axhspan(1, 2, 0.7, 1, facecolor='red', alpha=0.02)\n",
    "    ax1.axhspan(0, 1, 0.7, 1, facecolor='green', alpha=0.05)\n",
    "    darkgreen_patch = mpatches.Patch(color='darkgreen', label='baseline')\n",
    "    ax1.legend(handles=[darkgreen_patch])\n",
    "    \n",
    "    ax2.set_ylim(-1,1)\n",
    "    ax2.set_title('Fairness = 0')\n",
    "    ax2.set_yticks(np.arange(-1, 1, step=0.2))\n",
    "    ax2.hlines(0, -0.5, 4.5, color='blue', linewidth=0.8)\n",
    "    ax2.axhspan(-1, 0, 0, 0.55, facecolor='red', alpha=0.02)\n",
    "    ax2.axhspan(0, 1, 0, 0.55, facecolor='green', alpha=0.05)\n",
    "    ax2.axhspan(0, 1, 0.55, 1, facecolor='red', alpha=0.02)\n",
    "    ax2.axhspan(-1, 0, 0.55, 1, facecolor='green', alpha=0.05)\n",
    "    darkblue_patch = mpatches.Patch(color='darkblue', label='baseline')\n",
    "    ax2.legend(handles=[darkblue_patch])\n",
    "\n",
    "    plt.show()"
   ]
  },
  {
   "cell_type": "code",
   "execution_count": 38,
   "id": "6bd4eab2",
   "metadata": {},
   "outputs": [],
   "source": [
    "# Methode zum späteren vergleichenden Visualisieren der Fairnessergebnisse des Baseline Modells mit dem Modell nach dem Anwenden von AV-Mitigationsmethoden\n",
    "\n",
    "def compare_models(aif_metrics_baseline, aif_metrics_mitigated):\n",
    "    \n",
    "    fig = plt.figure(figsize=(15, 5))\n",
    "    gs = gridspec.GridSpec(1, 3, width_ratios=[1,3,5]) \n",
    "    ax0 = plt.subplot(gs[0])\n",
    "    ax1 = plt.subplot(gs[1])\n",
    "    ax2 = plt.subplot(gs[2])\n",
    "    \n",
    "    x_coord = 0\n",
    "    for metric in aif_metrics_baseline:\n",
    "        if metric == 'acc':\n",
    "            ax0.scatter(metric, aif_metrics_baseline[metric], label=\"before mitigation\", color = \"black\")\n",
    "            ax0.scatter(metric, aif_metrics_mitigated[metric], label=\"after mitigation\", color = \"grey\")\n",
    "        elif metric == 'disp_imp' or metric == 'fnrr' or metric == 'fprr':\n",
    "            ax1.scatter(metric, aif_metrics_baseline[metric], label=\"before mitigation\", color = \"darkgreen\")\n",
    "            ax1.scatter(metric, aif_metrics_mitigated[metric], label=\"after mitigation\", color = \"lightgreen\")\n",
    "        else: \n",
    "            ax2.scatter(metric, aif_metrics_baseline[metric], label=\"before mitigation\", color = \"darkblue\")\n",
    "            ax2.scatter(metric, aif_metrics_mitigated[metric], label=\"after mitigation\", color = \"lightblue\")\n",
    "        x_coord += 1\n",
    "   \n",
    "    ax0.set_ylim(0,1)\n",
    "    ax0.set_title('Genauigkeit')\n",
    "    ax0.set_yticks(np.arange(0, 1, step=0.1))\n",
    "    ax0.axhspan(0, 0.75, 0, 1, facecolor='red', alpha=0.02)\n",
    "    ax0.axhspan(0.75, 1, 0, 1, facecolor='green', alpha=0.05)\n",
    "    black_patch = mpatches.Patch(color='black', label='acc')\n",
    "    grey_patch = mpatches.Patch(color='grey', label='acc neu')\n",
    "    ax0.legend(handles=[black_patch, grey_patch], loc='lower left')\n",
    "    \n",
    "    ax1.set_ylim(0, 2)\n",
    "    ax1.set_title('Fairness = 1')\n",
    "    ax1.set_yticks(np.arange(0, 2, step=0.2))\n",
    "    ax1.hlines(1, -0.5, 2.5, color='green', linewidth=0.8)\n",
    "    ax1.axhspan(0, 1, 0, 0.7, facecolor='red', alpha=0.02)\n",
    "    ax1.axhspan(1, 2, 0, 0.7, facecolor='green', alpha=0.05)\n",
    "    ax1.axhspan(1, 2, 0.7, 1, facecolor='red', alpha=0.02)\n",
    "    ax1.axhspan(0, 1, 0.7, 1, facecolor='green', alpha=0.05)\n",
    "    darkgreen_patch = mpatches.Patch(color='darkgreen', label='baseline')\n",
    "    lightgreen_patch = mpatches.Patch(color='lightgreen', label='AV reduziert')\n",
    "    ax1.legend(handles=[darkgreen_patch, lightgreen_patch])\n",
    "    \n",
    "    ax2.set_ylim(-1,1)\n",
    "    ax2.set_title('Fairness = 0')\n",
    "    ax2.set_yticks(np.arange(-1, 1, step=0.2))\n",
    "    ax2.hlines(0, -0.5, 4.5, color='blue', linewidth=0.8)\n",
    "    ax2.axhspan(-1, 0, 0, 0.55, facecolor='red', alpha=0.02)\n",
    "    ax2.axhspan(0, 1, 0, 0.55, facecolor='green', alpha=0.05)\n",
    "    ax2.axhspan(0, 1, 0.55, 1, facecolor='red', alpha=0.02)\n",
    "    ax2.axhspan(-1, 0, 0.55, 1, facecolor='green', alpha=0.05)\n",
    "    darkblue_patch = mpatches.Patch(color='darkblue', label='baseline')\n",
    "    lightblue_patch = mpatches.Patch(color='lightblue', label='AV reduziert')\n",
    "    ax2.legend(handles=[darkblue_patch, lightblue_patch])\n",
    "\n",
    "    plt.show()"
   ]
  },
  {
   "cell_type": "code",
   "execution_count": 39,
   "id": "b7f51996",
   "metadata": {},
   "outputs": [
    {
     "data": {
      "text/markdown": [
       "#### Fairness des Baseline Modells"
      ],
      "text/plain": [
       "<IPython.core.display.Markdown object>"
      ]
     },
     "metadata": {},
     "output_type": "display_data"
    },
    {
     "name": "stdout",
     "output_type": "stream",
     "text": [
      "Accuracy:                               85.11%\n",
      "Disparate Impact:                        0.2995\n",
      "False Positive Rate Ratio:               0.1989\n",
      "False Negative Rate Ratio:               1.2062\n",
      "Statistical Parity Difference:          -0.1832\n",
      "Equalized/Average odds difference:      -0.0777\n",
      "Equal opportunity difference:           -0.0788\n",
      "Theil index:                             0.1233\n",
      "Error Rate Difference:                  -0.1172\n"
     ]
    }
   ],
   "source": [
    "display(Markdown(\"#### Fairness des Baseline Modells\"))\n",
    "\n",
    "aif_metrics_baseline = get_aif_metrics(X_aif_test, predicted_classes)\n",
    "describe_aif_metrics(aif_metrics_baseline)"
   ]
  },
  {
   "cell_type": "code",
   "execution_count": 40,
   "id": "fa7361d8",
   "metadata": {},
   "outputs": [
    {
     "data": {
      "text/markdown": [
       "##### Metrikwerte des Baseline Modells"
      ],
      "text/plain": [
       "<IPython.core.display.Markdown object>"
      ]
     },
     "metadata": {},
     "output_type": "display_data"
    },
    {
     "data": {
      "image/png": "[encoded data removed]",
      "text/plain": [
       "<Figure size 1080x360 with 3 Axes>"
      ]
     },
     "metadata": {
      "needs_background": "light"
     },
     "output_type": "display_data"
    }
   ],
   "source": [
    "# Visualisieren der Baseline Fairness Ergebnisse\n",
    "display(Markdown(\"##### Metrikwerte des Baseline Modells\"))\n",
    "plot_aif_metrics(aif_metrics_baseline)"
   ]
  },
  {
   "cell_type": "markdown",
   "id": "7892d42a",
   "metadata": {},
   "source": [
    "Um die Bewertung der Ergebnisse intuitiver zu gestalten, wurden die Werte visualisiert. Die linke Grafik zeigt das Ergebnis der Klassifikationsgenauigkeit, die mittlere Grafik visualisiert die Ergebnisse der Metriken mit einem Optimalwert von 1, somit die Disparate Impact Metrik sowie False Positive und False Negative Rate Ratio. Die rechte Grafik zeigt Metriken mit einem optimalen Fairnesswert von 0. Dazu zählen die Statistical Parity, Average Odds und Equal Opportunity Difference, der Theil Index und die Error Rate Difference. Befinden sich die Werte der Fairnessmetriken innerhalb der grünen Bereiche, bedeutet das einen Vorteil für Frauen, der geschützten Gruppe. Werte im hellroten Bereich zeigen einen Vorteil für Männer an, der privilegierten Gruppe. Das Ziel ist das Annähern der Punkte an die Mittellinie, die Kriterien-spezifische Gleichbehandlung signalisiert. "
   ]
  },
  {
   "cell_type": "code",
   "execution_count": 41,
   "id": "c50fc690",
   "metadata": {},
   "outputs": [
    {
     "data": {
      "text/markdown": [
       "##### Metrikwerte des Baseline Modells"
      ],
      "text/plain": [
       "<IPython.core.display.Markdown object>"
      ]
     },
     "metadata": {},
     "output_type": "display_data"
    },
    {
     "data": {
      "image/png": "[encoded data removed]",
      "text/plain": [
       "<Figure size 1080x576 with 8 Axes>"
      ]
     },
     "metadata": {
      "needs_background": "light"
     },
     "output_type": "display_data"
    }
   ],
   "source": [
    "# Visualisieren der einzelnen Metriken als Subplots\n",
    "display(Markdown(\"##### Metrikwerte des Baseline Modells\"))\n",
    "fig, ax = plt.subplots(2, 4, figsize=(15,8))\n",
    "fig.subplots_adjust(left=None, bottom=None, right=None, top=None, wspace=0.45, hspace=None)\n",
    "plot_metric('disp_imp', aif_metrics_baseline['disp_imp'], ax[0,0])\n",
    "plot_metric('fnrr', aif_metrics_baseline['fnrr'], ax[0,1])\n",
    "plot_metric('fprr', aif_metrics_baseline['fprr'], ax[0,2])\n",
    "plot_metric('theil_ind', aif_metrics_baseline['theil_ind'], ax[0,3])\n",
    "plot_metric('stat_par_diff', aif_metrics_baseline['stat_par_diff'], ax[1,0])\n",
    "plot_metric('avg_odds_diff', aif_metrics_baseline['avg_odds_diff'], ax[1,1])\n",
    "plot_metric('eq_opp_diff', aif_metrics_baseline['eq_opp_diff'], ax[1,2])\n",
    "plot_metric('err_r_diff', aif_metrics_baseline['err_r_diff'], ax[1,3])"
   ]
  },
  {
   "cell_type": "markdown",
   "id": "69a12909",
   "metadata": {},
   "source": [
    "#### Evaluierung: Fairness des Baseline Modells\n",
    "\n",
    "Je weiter der Ergebnisbalken von der Linie entfernt ist, die Fairness signalisiert, desto mehr Voreingenommenheit zeigt das Modell in diesem Bereich. Durch die Ergebnisse der weiteren Fairnessmetriken wird ersichtlich, dass jede der Metriken einen Nachteil für die geschützte Gruppe (Frauen) errechnet, außer die Fehlerratendifferenz. Der Grund dafür könnte, wie anfangs bereits erwähnt, die höhere Repräsentation der Frauen in der Label-Mehrheitsklasse 'income<=50K' sein. \n",
    "<br>\n",
    "Die Disparate Impact Metrik sowie die False Positive Rate Ratio Metrik zeigen die größten Nachteile für die geschützte Gruppe auf. Das bedeutet, dass das Modell dazu tendiert, mehr Männern positive Ergebnisse zuzuschreiben als Frauen (Disparate Impact). und das auch, wenn die Ground Truth den Mann eigentlich als \"negativ, 0\" eingestuft hat (False Positive Ratio).\n",
    "<br>\n",
    "Der Wert für die Equal Opportunity Difference ist bereits relativ nahe an dem Fairnessziel, was bedeutet, dass die True Positive Raten zwischen Männern und Frauen sich nicht allzu sehr unterscheiden, jedoch Männer dennoch häufiger zu recht als positiv eingestuft werden als Frauen. Auch der Wert für die Average Odds Difference, der Mittelwert aus True Positive und False Positive Difference beider Gruppen, ist relativ fair. Dass die Average Odds Difference gering ist, die False Positive Rate jedoch hoch, lässt darauf schließen, dass sich die False Positive Raten der beiden Gruppen absolut gesehen nicht stark unterscheiden, relativ gesehen jedoch schon (und somit für beide Gruppen recht gering sind).\n",
    "<br>\n",
    "Laut Theil Index wurde die individuelle Fairness nicht komplett erreicht, ist aber auch nicht sehr weit davon entfernt."
   ]
  },
  {
   "cell_type": "markdown",
   "id": "3caa0ec8",
   "metadata": {},
   "source": [
    "# Techniken zur Milderung von AV"
   ]
  },
  {
   "cell_type": "markdown",
   "id": "18cf02c2",
   "metadata": {},
   "source": [
    "Nach der Evaluierung des Baseline Modells werden nun folgende Techniken zur Abmilderung der erkannten Voreingenommenheit angewandt:\n",
    "\n",
    "- Pre-Processing:\n",
    "    - Fairness durch Unbewusstsein\n",
    "    - Reweighing\n",
    "- In-Processing:\n",
    "    - Adversarial Debiasing\n",
    "- Post-Processing:\n",
    "    - Reject Option Classification"
   ]
  },
  {
   "cell_type": "markdown",
   "id": "c680ae2d",
   "metadata": {},
   "source": [
    "## Pre-Processing"
   ]
  },
  {
   "cell_type": "markdown",
   "id": "728cd8c1",
   "metadata": {},
   "source": [
    "### Fairness durch Unbewusstsein\n",
    "Der Ansatz „Fairness durch Unbewusstsein“ hat das Ziel, die Vorhersagen des Modells nicht von dem sensitiven Attribut abhängig zu machen, indem das sensitive Attribut aus dem Datensatz entfernt wird. Grundsätzlich wird diese Methode meist als nicht ausreichend angesehen, da Proxyvariablen das Ergebnis weiterhin beeinflussen können. Die Methode wird in diesem Versuch angewandt, um zu sehen, wie sie im Vergleich zu den gezielten Mitigationsmethoden abschneidet. Hierfür wird die Spalte zum Geschlecht aus dem Datensatz entfernt und das Modell neu trainiert."
   ]
  },
  {
   "cell_type": "code",
   "execution_count": 42,
   "id": "ba8aef0c",
   "metadata": {},
   "outputs": [
    {
     "data": {
      "text/html": [
       "<div>\n",
       "<style scoped>\n",
       "    .dataframe tbody tr th:only-of-type {\n",
       "        vertical-align: middle;\n",
       "    }\n",
       "\n",
       "    .dataframe tbody tr th {\n",
       "        vertical-align: top;\n",
       "    }\n",
       "\n",
       "    .dataframe thead th {\n",
       "        text-align: right;\n",
       "    }\n",
       "</style>\n",
       "<table border=\"1\" class=\"dataframe\">\n",
       "  <thead>\n",
       "    <tr style=\"text-align: right;\">\n",
       "      <th></th>\n",
       "      <th>age</th>\n",
       "      <th>fnlwgt</th>\n",
       "      <th>education-num</th>\n",
       "      <th>capital-gain</th>\n",
       "      <th>capital-loss</th>\n",
       "      <th>hours-per-week</th>\n",
       "      <th>sex</th>\n",
       "      <th>workclass_Local-gov</th>\n",
       "      <th>workclass_Private</th>\n",
       "      <th>workclass_Self-emp-inc</th>\n",
       "      <th>...</th>\n",
       "      <th>native-country_Portugal</th>\n",
       "      <th>native-country_Puerto-Rico</th>\n",
       "      <th>native-country_Scotland</th>\n",
       "      <th>native-country_South</th>\n",
       "      <th>native-country_Taiwan</th>\n",
       "      <th>native-country_Thailand</th>\n",
       "      <th>native-country_Trinadad&amp;Tobago</th>\n",
       "      <th>native-country_United-States</th>\n",
       "      <th>native-country_Vietnam</th>\n",
       "      <th>native-country_Yugoslavia</th>\n",
       "    </tr>\n",
       "  </thead>\n",
       "  <tbody>\n",
       "    <tr>\n",
       "      <th>27113</th>\n",
       "      <td>-0.261747</td>\n",
       "      <td>-0.035824</td>\n",
       "      <td>-0.439738</td>\n",
       "      <td>-0.147445</td>\n",
       "      <td>-0.218586</td>\n",
       "      <td>-0.077734</td>\n",
       "      <td>1.0</td>\n",
       "      <td>0.0</td>\n",
       "      <td>1.0</td>\n",
       "      <td>0.0</td>\n",
       "      <td>...</td>\n",
       "      <td>0.0</td>\n",
       "      <td>0.0</td>\n",
       "      <td>0.0</td>\n",
       "      <td>0.0</td>\n",
       "      <td>0.0</td>\n",
       "      <td>0.0</td>\n",
       "      <td>0.0</td>\n",
       "      <td>1.0</td>\n",
       "      <td>0.0</td>\n",
       "      <td>0.0</td>\n",
       "    </tr>\n",
       "    <tr>\n",
       "      <th>13212</th>\n",
       "      <td>-1.175375</td>\n",
       "      <td>0.030138</td>\n",
       "      <td>-0.439738</td>\n",
       "      <td>-0.147445</td>\n",
       "      <td>-0.218586</td>\n",
       "      <td>-0.077734</td>\n",
       "      <td>1.0</td>\n",
       "      <td>0.0</td>\n",
       "      <td>1.0</td>\n",
       "      <td>0.0</td>\n",
       "      <td>...</td>\n",
       "      <td>0.0</td>\n",
       "      <td>0.0</td>\n",
       "      <td>0.0</td>\n",
       "      <td>0.0</td>\n",
       "      <td>0.0</td>\n",
       "      <td>0.0</td>\n",
       "      <td>0.0</td>\n",
       "      <td>1.0</td>\n",
       "      <td>0.0</td>\n",
       "      <td>0.0</td>\n",
       "    </tr>\n",
       "    <tr>\n",
       "      <th>24112</th>\n",
       "      <td>0.042796</td>\n",
       "      <td>-0.012218</td>\n",
       "      <td>1.128918</td>\n",
       "      <td>-0.147445</td>\n",
       "      <td>-0.218586</td>\n",
       "      <td>1.591745</td>\n",
       "      <td>0.0</td>\n",
       "      <td>0.0</td>\n",
       "      <td>1.0</td>\n",
       "      <td>0.0</td>\n",
       "      <td>...</td>\n",
       "      <td>0.0</td>\n",
       "      <td>0.0</td>\n",
       "      <td>0.0</td>\n",
       "      <td>0.0</td>\n",
       "      <td>0.0</td>\n",
       "      <td>0.0</td>\n",
       "      <td>0.0</td>\n",
       "      <td>1.0</td>\n",
       "      <td>0.0</td>\n",
       "      <td>0.0</td>\n",
       "    </tr>\n",
       "    <tr>\n",
       "      <th>22502</th>\n",
       "      <td>-0.414018</td>\n",
       "      <td>-0.205997</td>\n",
       "      <td>-0.439738</td>\n",
       "      <td>-0.147445</td>\n",
       "      <td>-0.218586</td>\n",
       "      <td>-0.745526</td>\n",
       "      <td>0.0</td>\n",
       "      <td>0.0</td>\n",
       "      <td>1.0</td>\n",
       "      <td>0.0</td>\n",
       "      <td>...</td>\n",
       "      <td>0.0</td>\n",
       "      <td>0.0</td>\n",
       "      <td>0.0</td>\n",
       "      <td>0.0</td>\n",
       "      <td>0.0</td>\n",
       "      <td>0.0</td>\n",
       "      <td>0.0</td>\n",
       "      <td>1.0</td>\n",
       "      <td>0.0</td>\n",
       "      <td>0.0</td>\n",
       "    </tr>\n",
       "    <tr>\n",
       "      <th>3872</th>\n",
       "      <td>-0.870832</td>\n",
       "      <td>0.415804</td>\n",
       "      <td>-0.439738</td>\n",
       "      <td>-0.147445</td>\n",
       "      <td>-0.218586</td>\n",
       "      <td>-0.244682</td>\n",
       "      <td>1.0</td>\n",
       "      <td>0.0</td>\n",
       "      <td>0.0</td>\n",
       "      <td>1.0</td>\n",
       "      <td>...</td>\n",
       "      <td>0.0</td>\n",
       "      <td>0.0</td>\n",
       "      <td>0.0</td>\n",
       "      <td>0.0</td>\n",
       "      <td>0.0</td>\n",
       "      <td>0.0</td>\n",
       "      <td>0.0</td>\n",
       "      <td>1.0</td>\n",
       "      <td>0.0</td>\n",
       "      <td>0.0</td>\n",
       "    </tr>\n",
       "  </tbody>\n",
       "</table>\n",
       "<p>5 rows × 96 columns</p>\n",
       "</div>"
      ],
      "text/plain": [
       "            age    fnlwgt  education-num  capital-gain  capital-loss  \\\n",
       "27113 -0.261747 -0.035824      -0.439738     -0.147445     -0.218586   \n",
       "13212 -1.175375  0.030138      -0.439738     -0.147445     -0.218586   \n",
       "24112  0.042796 -0.012218       1.128918     -0.147445     -0.218586   \n",
       "22502 -0.414018 -0.205997      -0.439738     -0.147445     -0.218586   \n",
       "3872  -0.870832  0.415804      -0.439738     -0.147445     -0.218586   \n",
       "\n",
       "       hours-per-week  sex  workclass_Local-gov  workclass_Private  \\\n",
       "27113       -0.077734  1.0                  0.0                1.0   \n",
       "13212       -0.077734  1.0                  0.0                1.0   \n",
       "24112        1.591745  0.0                  0.0                1.0   \n",
       "22502       -0.745526  0.0                  0.0                1.0   \n",
       "3872        -0.244682  1.0                  0.0                0.0   \n",
       "\n",
       "       workclass_Self-emp-inc  ...  native-country_Portugal  \\\n",
       "27113                     0.0  ...                      0.0   \n",
       "13212                     0.0  ...                      0.0   \n",
       "24112                     0.0  ...                      0.0   \n",
       "22502                     0.0  ...                      0.0   \n",
       "3872                      1.0  ...                      0.0   \n",
       "\n",
       "       native-country_Puerto-Rico  native-country_Scotland  \\\n",
       "27113                         0.0                      0.0   \n",
       "13212                         0.0                      0.0   \n",
       "24112                         0.0                      0.0   \n",
       "22502                         0.0                      0.0   \n",
       "3872                          0.0                      0.0   \n",
       "\n",
       "       native-country_South  native-country_Taiwan  native-country_Thailand  \\\n",
       "27113                   0.0                    0.0                      0.0   \n",
       "13212                   0.0                    0.0                      0.0   \n",
       "24112                   0.0                    0.0                      0.0   \n",
       "22502                   0.0                    0.0                      0.0   \n",
       "3872                    0.0                    0.0                      0.0   \n",
       "\n",
       "       native-country_Trinadad&Tobago  native-country_United-States  \\\n",
       "27113                             0.0                           1.0   \n",
       "13212                             0.0                           1.0   \n",
       "24112                             0.0                           1.0   \n",
       "22502                             0.0                           1.0   \n",
       "3872                              0.0                           1.0   \n",
       "\n",
       "       native-country_Vietnam  native-country_Yugoslavia  \n",
       "27113                     0.0                        0.0  \n",
       "13212                     0.0                        0.0  \n",
       "24112                     0.0                        0.0  \n",
       "22502                     0.0                        0.0  \n",
       "3872                      0.0                        0.0  \n",
       "\n",
       "[5 rows x 96 columns]"
      ]
     },
     "execution_count": 42,
     "metadata": {},
     "output_type": "execute_result"
    }
   ],
   "source": [
    "X_train.head()  "
   ]
  },
  {
   "cell_type": "code",
   "execution_count": 43,
   "id": "d95b9efb",
   "metadata": {},
   "outputs": [],
   "source": [
    "# Entfernen des sensitiven Attributes \"sex\" aus Training- und Testdaten\n",
    "\n",
    "X_train_ua = X_train.copy()\n",
    "X_train_ua = X_train_ua.drop(columns=['sex'])\n",
    "\n",
    "X_test_ua = X_test.copy()\n",
    "X_test_ua = X_test_ua.drop(columns=['sex'])  "
   ]
  },
  {
   "cell_type": "code",
   "execution_count": 44,
   "id": "0044b88a",
   "metadata": {},
   "outputs": [
    {
     "data": {
      "text/html": [
       "<div>\n",
       "<style scoped>\n",
       "    .dataframe tbody tr th:only-of-type {\n",
       "        vertical-align: middle;\n",
       "    }\n",
       "\n",
       "    .dataframe tbody tr th {\n",
       "        vertical-align: top;\n",
       "    }\n",
       "\n",
       "    .dataframe thead th {\n",
       "        text-align: right;\n",
       "    }\n",
       "</style>\n",
       "<table border=\"1\" class=\"dataframe\">\n",
       "  <thead>\n",
       "    <tr style=\"text-align: right;\">\n",
       "      <th></th>\n",
       "      <th>age</th>\n",
       "      <th>fnlwgt</th>\n",
       "      <th>education-num</th>\n",
       "      <th>capital-gain</th>\n",
       "      <th>capital-loss</th>\n",
       "      <th>hours-per-week</th>\n",
       "      <th>workclass_Local-gov</th>\n",
       "      <th>workclass_Private</th>\n",
       "      <th>workclass_Self-emp-inc</th>\n",
       "      <th>workclass_Self-emp-not-inc</th>\n",
       "      <th>...</th>\n",
       "      <th>native-country_Portugal</th>\n",
       "      <th>native-country_Puerto-Rico</th>\n",
       "      <th>native-country_Scotland</th>\n",
       "      <th>native-country_South</th>\n",
       "      <th>native-country_Taiwan</th>\n",
       "      <th>native-country_Thailand</th>\n",
       "      <th>native-country_Trinadad&amp;Tobago</th>\n",
       "      <th>native-country_United-States</th>\n",
       "      <th>native-country_Vietnam</th>\n",
       "      <th>native-country_Yugoslavia</th>\n",
       "    </tr>\n",
       "  </thead>\n",
       "  <tbody>\n",
       "    <tr>\n",
       "      <th>217</th>\n",
       "      <td>-0.794697</td>\n",
       "      <td>-1.070313</td>\n",
       "      <td>1.913247</td>\n",
       "      <td>-0.147445</td>\n",
       "      <td>-0.218586</td>\n",
       "      <td>1.174375</td>\n",
       "      <td>0.0</td>\n",
       "      <td>1.0</td>\n",
       "      <td>0.0</td>\n",
       "      <td>0.0</td>\n",
       "      <td>...</td>\n",
       "      <td>0.0</td>\n",
       "      <td>0.0</td>\n",
       "      <td>0.0</td>\n",
       "      <td>0.0</td>\n",
       "      <td>0.0</td>\n",
       "      <td>0.0</td>\n",
       "      <td>0.0</td>\n",
       "      <td>1.0</td>\n",
       "      <td>0.0</td>\n",
       "      <td>0.0</td>\n",
       "    </tr>\n",
       "    <tr>\n",
       "      <th>24913</th>\n",
       "      <td>0.195067</td>\n",
       "      <td>-0.107550</td>\n",
       "      <td>-0.439738</td>\n",
       "      <td>-0.147445</td>\n",
       "      <td>-0.218586</td>\n",
       "      <td>-0.077734</td>\n",
       "      <td>0.0</td>\n",
       "      <td>1.0</td>\n",
       "      <td>0.0</td>\n",
       "      <td>0.0</td>\n",
       "      <td>...</td>\n",
       "      <td>0.0</td>\n",
       "      <td>0.0</td>\n",
       "      <td>0.0</td>\n",
       "      <td>0.0</td>\n",
       "      <td>1.0</td>\n",
       "      <td>0.0</td>\n",
       "      <td>0.0</td>\n",
       "      <td>0.0</td>\n",
       "      <td>0.0</td>\n",
       "      <td>0.0</td>\n",
       "    </tr>\n",
       "    <tr>\n",
       "      <th>17780</th>\n",
       "      <td>1.108695</td>\n",
       "      <td>0.954520</td>\n",
       "      <td>-0.439738</td>\n",
       "      <td>-0.147445</td>\n",
       "      <td>-0.218586</td>\n",
       "      <td>0.757005</td>\n",
       "      <td>0.0</td>\n",
       "      <td>1.0</td>\n",
       "      <td>0.0</td>\n",
       "      <td>0.0</td>\n",
       "      <td>...</td>\n",
       "      <td>0.0</td>\n",
       "      <td>0.0</td>\n",
       "      <td>0.0</td>\n",
       "      <td>0.0</td>\n",
       "      <td>0.0</td>\n",
       "      <td>0.0</td>\n",
       "      <td>0.0</td>\n",
       "      <td>0.0</td>\n",
       "      <td>0.0</td>\n",
       "      <td>0.0</td>\n",
       "    </tr>\n",
       "    <tr>\n",
       "      <th>12484</th>\n",
       "      <td>-0.566290</td>\n",
       "      <td>0.241390</td>\n",
       "      <td>-0.439738</td>\n",
       "      <td>-0.147445</td>\n",
       "      <td>-0.218586</td>\n",
       "      <td>0.339636</td>\n",
       "      <td>0.0</td>\n",
       "      <td>1.0</td>\n",
       "      <td>0.0</td>\n",
       "      <td>0.0</td>\n",
       "      <td>...</td>\n",
       "      <td>0.0</td>\n",
       "      <td>0.0</td>\n",
       "      <td>0.0</td>\n",
       "      <td>0.0</td>\n",
       "      <td>0.0</td>\n",
       "      <td>0.0</td>\n",
       "      <td>0.0</td>\n",
       "      <td>1.0</td>\n",
       "      <td>0.0</td>\n",
       "      <td>0.0</td>\n",
       "    </tr>\n",
       "    <tr>\n",
       "      <th>8890</th>\n",
       "      <td>-0.337883</td>\n",
       "      <td>-0.010524</td>\n",
       "      <td>1.128918</td>\n",
       "      <td>-0.147445</td>\n",
       "      <td>-0.218586</td>\n",
       "      <td>-0.077734</td>\n",
       "      <td>1.0</td>\n",
       "      <td>0.0</td>\n",
       "      <td>0.0</td>\n",
       "      <td>0.0</td>\n",
       "      <td>...</td>\n",
       "      <td>0.0</td>\n",
       "      <td>0.0</td>\n",
       "      <td>0.0</td>\n",
       "      <td>0.0</td>\n",
       "      <td>0.0</td>\n",
       "      <td>0.0</td>\n",
       "      <td>0.0</td>\n",
       "      <td>1.0</td>\n",
       "      <td>0.0</td>\n",
       "      <td>0.0</td>\n",
       "    </tr>\n",
       "  </tbody>\n",
       "</table>\n",
       "<p>5 rows × 95 columns</p>\n",
       "</div>"
      ],
      "text/plain": [
       "            age    fnlwgt  education-num  capital-gain  capital-loss  \\\n",
       "217   -0.794697 -1.070313       1.913247     -0.147445     -0.218586   \n",
       "24913  0.195067 -0.107550      -0.439738     -0.147445     -0.218586   \n",
       "17780  1.108695  0.954520      -0.439738     -0.147445     -0.218586   \n",
       "12484 -0.566290  0.241390      -0.439738     -0.147445     -0.218586   \n",
       "8890  -0.337883 -0.010524       1.128918     -0.147445     -0.218586   \n",
       "\n",
       "       hours-per-week  workclass_Local-gov  workclass_Private  \\\n",
       "217          1.174375                  0.0                1.0   \n",
       "24913       -0.077734                  0.0                1.0   \n",
       "17780        0.757005                  0.0                1.0   \n",
       "12484        0.339636                  0.0                1.0   \n",
       "8890        -0.077734                  1.0                0.0   \n",
       "\n",
       "       workclass_Self-emp-inc  workclass_Self-emp-not-inc  ...  \\\n",
       "217                       0.0                         0.0  ...   \n",
       "24913                     0.0                         0.0  ...   \n",
       "17780                     0.0                         0.0  ...   \n",
       "12484                     0.0                         0.0  ...   \n",
       "8890                      0.0                         0.0  ...   \n",
       "\n",
       "       native-country_Portugal  native-country_Puerto-Rico  \\\n",
       "217                        0.0                         0.0   \n",
       "24913                      0.0                         0.0   \n",
       "17780                      0.0                         0.0   \n",
       "12484                      0.0                         0.0   \n",
       "8890                       0.0                         0.0   \n",
       "\n",
       "       native-country_Scotland  native-country_South  native-country_Taiwan  \\\n",
       "217                        0.0                   0.0                    0.0   \n",
       "24913                      0.0                   0.0                    1.0   \n",
       "17780                      0.0                   0.0                    0.0   \n",
       "12484                      0.0                   0.0                    0.0   \n",
       "8890                       0.0                   0.0                    0.0   \n",
       "\n",
       "       native-country_Thailand  native-country_Trinadad&Tobago  \\\n",
       "217                        0.0                             0.0   \n",
       "24913                      0.0                             0.0   \n",
       "17780                      0.0                             0.0   \n",
       "12484                      0.0                             0.0   \n",
       "8890                       0.0                             0.0   \n",
       "\n",
       "       native-country_United-States  native-country_Vietnam  \\\n",
       "217                             1.0                     0.0   \n",
       "24913                           0.0                     0.0   \n",
       "17780                           0.0                     0.0   \n",
       "12484                           1.0                     0.0   \n",
       "8890                            1.0                     0.0   \n",
       "\n",
       "       native-country_Yugoslavia  \n",
       "217                          0.0  \n",
       "24913                        0.0  \n",
       "17780                        0.0  \n",
       "12484                        0.0  \n",
       "8890                         0.0  \n",
       "\n",
       "[5 rows x 95 columns]"
      ]
     },
     "execution_count": 44,
     "metadata": {},
     "output_type": "execute_result"
    }
   ],
   "source": [
    "# Attribut wurde entfernt\n",
    "X_test_ua.head()"
   ]
  },
  {
   "cell_type": "code",
   "execution_count": 45,
   "id": "20b962b3",
   "metadata": {},
   "outputs": [
    {
     "data": {
      "text/plain": [
       "LogisticRegression(max_iter=1000, random_state=0)"
      ]
     },
     "execution_count": 45,
     "metadata": {},
     "output_type": "execute_result"
    }
   ],
   "source": [
    "# Trainieren des gleichen Modells mit den abgewandelten Daten\n",
    "model_ua = LogisticRegression(random_state=0, solver='lbfgs', max_iter=1000)  \n",
    "model_ua.fit(X_train_ua, y_train)"
   ]
  },
  {
   "cell_type": "code",
   "execution_count": 46,
   "id": "91950b8d",
   "metadata": {},
   "outputs": [],
   "source": [
    "# Labels für Testdaten vorhersagen\n",
    "predicted_classes_ua = model_ua.predict(X_test_ua)"
   ]
  },
  {
   "cell_type": "code",
   "execution_count": 47,
   "id": "670aab9f",
   "metadata": {},
   "outputs": [
    {
     "data": {
      "text/plain": [
       "0.8508122444469002"
      ]
     },
     "execution_count": 47,
     "metadata": {},
     "output_type": "execute_result"
    }
   ],
   "source": [
    "accuracy_score(predicted_classes_ua, y_test)"
   ]
  },
  {
   "cell_type": "markdown",
   "id": "cc3bdebb",
   "metadata": {},
   "source": [
    "##### Evaluierung"
   ]
  },
  {
   "cell_type": "code",
   "execution_count": 48,
   "id": "cd45efdd",
   "metadata": {},
   "outputs": [
    {
     "data": {
      "text/markdown": [
       "##### Fairness des Baseline Modells"
      ],
      "text/plain": [
       "<IPython.core.display.Markdown object>"
      ]
     },
     "metadata": {},
     "output_type": "display_data"
    },
    {
     "name": "stdout",
     "output_type": "stream",
     "text": [
      "Accuracy:                               85.11%\n",
      "Disparate Impact:                        0.2995\n",
      "False Positive Rate Ratio:               0.1989\n",
      "False Negative Rate Ratio:               1.2062\n",
      "Statistical Parity Difference:          -0.1832\n",
      "Equalized/Average odds difference:      -0.0777\n",
      "Equal opportunity difference:           -0.0788\n",
      "Theil index:                             0.1233\n",
      "Error Rate Difference:                  -0.1172\n"
     ]
    },
    {
     "data": {
      "text/markdown": [
       "##### Fairness Evaluierung: 'Fairness durch Unbewusstsein'"
      ],
      "text/plain": [
       "<IPython.core.display.Markdown object>"
      ]
     },
     "metadata": {},
     "output_type": "display_data"
    },
    {
     "name": "stdout",
     "output_type": "stream",
     "text": [
      "Accuracy:                               85.08%\n",
      "Disparate Impact:                        0.3285\n",
      "False Positive Rate Ratio:               0.2521\n",
      "False Negative Rate Ratio:               1.1340\n",
      "Statistical Parity Difference:          -0.1742\n",
      "Equalized/Average odds difference:      -0.0609\n",
      "Equal opportunity difference:           -0.0516\n",
      "Theil index:                             0.1232\n",
      "Error Rate Difference:                  -0.1156\n"
     ]
    },
    {
     "data": {
      "text/markdown": [
       "##### Änderungen der Metrikwerte durch die Methode 'Fairness durch Unbewusstsein'"
      ],
      "text/plain": [
       "<IPython.core.display.Markdown object>"
      ]
     },
     "metadata": {},
     "output_type": "display_data"
    },
    {
     "data": {
      "image/png": "[encoded data removed]",
      "text/plain": [
       "<Figure size 1080x360 with 3 Axes>"
      ]
     },
     "metadata": {
      "needs_background": "light"
     },
     "output_type": "display_data"
    }
   ],
   "source": [
    "display(Markdown(\"##### Fairness des Baseline Modells\"))\n",
    "describe_aif_metrics(aif_metrics_baseline)\n",
    "\n",
    "display(Markdown(\"##### Fairness Evaluierung: 'Fairness durch Unbewusstsein'\"))\n",
    "aif_metrics_ua = get_aif_metrics(X_aif_test, predicted_classes_ua)\n",
    "describe_aif_metrics(aif_metrics_ua)\n",
    "\n",
    "display(Markdown(\"##### Änderungen der Metrikwerte durch die Methode 'Fairness durch Unbewusstsein'\"))\n",
    "compare_models(aif_metrics_baseline, aif_metrics_ua)"
   ]
  },
  {
   "cell_type": "markdown",
   "id": "ebbf3559",
   "metadata": {},
   "source": [
    "#### Evaluierung: Fairness nach der Methode 'Fairness durch Unbewusstsein'\n",
    "\n",
    "Das Entfernen der sensitiven Attribute hat die Klassifikationsgenauigkeit kaum beeinflusst. Jedoch hat sich bezüglich der Fairnessmetriken auch nicht viel verändert. Die \"größten\" Unterschiede zeigen sich in der False Negative Rate Ratio, die sich um ca. 0,072 dem gewünschten Fairnesswert von 1 annäherte. Das bedeutet, dass nun Frauen trotzdem noch häufiger zu Unrecht negativ klassifiziert werden als Männer, jedoch weniger oft als zuvor. Auch die False Positive Rate Ratio wurde um ein kleines Stück fairer, mit einem Wert von 0,252 ist sie jedoch weiterhin weit vom gewünschten Fairnesswert von 1 entfernt. Der Rest der Metrikwerte blieb weitgehend unverändert. <br>\n",
    "Das Entfernen der sensitiven Attribute ist somit zwar eine schnell zu implementierende Methode, die sich auch kaum auf die Klassifikationsgenauigkeit auswirkt, jedoch sind die Veränderungen in den Fairnesswerten ebenfalls zu gering, um das Modell damit effektiv von Voreingenommenheiten zu befreien. Grund für die Unwirksamkeit dieser Methode sind die enthaltenen Verbindungen und Muster der anderen Variablen, die als Proxyvariablen fungieren und somit indirekt Informationen zu dem sensitiven Attribut enthalten können."
   ]
  },
  {
   "cell_type": "markdown",
   "id": "2bbecfb5",
   "metadata": {},
   "source": [
    "### Reweighing\n",
    "Bei dieser Pre-Processing Methode werden den Einträgen abhängig von Gruppenzugehörigkeit und Ground Truth Label unterschiedliche Gewichte zugewiesen, um bereits im Datensatz die Fairness zu erhöhen. Dazu wird ein „Reweighing“ Objekt instanziiert, womit der Trainingsdatensatz transformiert werden kann: "
   ]
  },
  {
   "cell_type": "code",
   "execution_count": 49,
   "id": "c2f390a1",
   "metadata": {},
   "outputs": [],
   "source": [
    "# Trainings-Datensatz transformieren\n",
    "\n",
    "RW = Reweighing(unprivileged_groups=unprivileged_group,\n",
    "               privileged_groups=privileged_group)\n",
    "\n",
    "RW.fit(X_aif_train)\n",
    "\n",
    "X_aif_train_rw = RW.transform(X_aif_train)"
   ]
  },
  {
   "cell_type": "code",
   "execution_count": 50,
   "id": "e7062648",
   "metadata": {},
   "outputs": [
    {
     "name": "stdout",
     "output_type": "stream",
     "text": [
      "Neu gewichteter Datensatz: Disparate Impact: 1.0000000000000002\n",
      "Neu gewichteter Datensatz: Statistical Parity: 2.7755575615628914e-17\n"
     ]
    }
   ],
   "source": [
    "# Neu gewichteten Datensatz mit Disparate Impact und Statistical Parity evaluieren\n",
    "\n",
    "aif_metric_rw_dataset = BinaryLabelDatasetMetric(X_aif_train_rw, unprivileged_group, privileged_group)\n",
    "print('Neu gewichteter Datensatz: Disparate Impact:', aif_metric_rw_dataset.disparate_impact())\n",
    "print('Neu gewichteter Datensatz: Statistical Parity:', aif_metric_rw_dataset.statistical_parity_difference())"
   ]
  },
  {
   "cell_type": "code",
   "execution_count": 51,
   "id": "b7d11332",
   "metadata": {},
   "outputs": [
    {
     "data": {
      "text/markdown": [
       "#### Disparate Impact und Statistical Parity"
      ],
      "text/plain": [
       "<IPython.core.display.Markdown object>"
      ]
     },
     "metadata": {},
     "output_type": "display_data"
    },
    {
     "data": {
      "text/markdown": [
       "#### Baseline Datensatz (links) - Neu gewichteter Datensatz (rechts)"
      ],
      "text/plain": [
       "<IPython.core.display.Markdown object>"
      ]
     },
     "metadata": {},
     "output_type": "display_data"
    },
    {
     "data": {
      "image/png": "[encoded data removed]",
      "text/plain": [
       "<Figure size 720x720 with 4 Axes>"
      ]
     },
     "metadata": {
      "needs_background": "light"
     },
     "output_type": "display_data"
    }
   ],
   "source": [
    "display(Markdown(\"#### Disparate Impact und Statistical Parity\"))\n",
    "display(Markdown(\"#### Baseline Datensatz (links) - Neu gewichteter Datensatz (rechts)\"))\n",
    "\n",
    "fig, ax = plt.subplots(2, 2, figsize=(10,10))\n",
    "fig.subplots_adjust(left=None, bottom=None, right=None, top=None, wspace=0.3, hspace=None)\n",
    "\n",
    "plot_metric('disp_imp', disparate_impact_baseline_dataset, ax[0,0])\n",
    "plot_metric('disp_imp', aif_metric_rw_dataset.disparate_impact(), ax[0,1])\n",
    "\n",
    "plot_metric('stat_par_diff', statistical_parity_baseline_dataset, ax[1,0])\n",
    "plot_metric('stat_par_diff', aif_metric_rw_dataset.statistical_parity_difference(), ax[1,1])\n",
    "\n",
    "plt.show()"
   ]
  },
  {
   "cell_type": "markdown",
   "id": "f024ebc7",
   "metadata": {},
   "source": [
    "Die zwei verwendeten Metriken zur Fairness-Evaluierung des Datensatzes zeigen, dass die Verhältnisse an positiven Labels zwischen Frauen und Männern im Trainingsdatensatz nun sehr ausgeglichen sind und der gewichtete Datensatz die beiden Fairnessmetriken erfüllt. Im Folgenden wird die Auswirkung auf die Vorhersagen nach dem Trainieren des Modells mit dem transformierten Datensatz untersucht."
   ]
  },
  {
   "cell_type": "code",
   "execution_count": 52,
   "id": "0561a2cf",
   "metadata": {},
   "outputs": [
    {
     "data": {
      "text/plain": [
       "LogisticRegression(max_iter=1000, random_state=0)"
      ]
     },
     "execution_count": 52,
     "metadata": {},
     "output_type": "execute_result"
    }
   ],
   "source": [
    "# Erneutes Trainieren des Modells mit dem neu gewichteten Datensatz\n",
    "model_rw = LogisticRegression(random_state=0, solver='lbfgs', max_iter=1000)\n",
    "\n",
    "X_train_rw = X_aif_train_rw.features\n",
    "y_train_rw = X_aif_train_rw.labels.ravel()\n",
    "\n",
    "model_rw.fit(X_train_rw, y_train_rw, sample_weight=X_aif_train_rw.instance_weights)  # Gewichte angeben"
   ]
  },
  {
   "cell_type": "code",
   "execution_count": 53,
   "id": "1c1ab2b5",
   "metadata": {},
   "outputs": [],
   "source": [
    "# Modell testen\n",
    "predicted_classes_rw = model_rw.predict(X_test)"
   ]
  },
  {
   "cell_type": "code",
   "execution_count": 54,
   "id": "e329530e",
   "metadata": {},
   "outputs": [
    {
     "data": {
      "text/plain": [
       "0.8426345452536191"
      ]
     },
     "execution_count": 54,
     "metadata": {},
     "output_type": "execute_result"
    }
   ],
   "source": [
    "accuracy_score(predicted_classes_rw, y_test)"
   ]
  },
  {
   "cell_type": "code",
   "execution_count": 55,
   "id": "67ae6c4a",
   "metadata": {},
   "outputs": [
    {
     "data": {
      "text/markdown": [
       "##### Fairness des Baseline Modells"
      ],
      "text/plain": [
       "<IPython.core.display.Markdown object>"
      ]
     },
     "metadata": {},
     "output_type": "display_data"
    },
    {
     "name": "stdout",
     "output_type": "stream",
     "text": [
      "Accuracy:                               85.11%\n",
      "Disparate Impact:                        0.2995\n",
      "False Positive Rate Ratio:               0.1989\n",
      "False Negative Rate Ratio:               1.2062\n",
      "Statistical Parity Difference:          -0.1832\n",
      "Equalized/Average odds difference:      -0.0777\n",
      "Equal opportunity difference:           -0.0788\n",
      "Theil index:                             0.1233\n",
      "Error Rate Difference:                  -0.1172\n"
     ]
    },
    {
     "data": {
      "text/markdown": [
       "##### Fairness Evaluierung: 'Reweighing'"
      ],
      "text/plain": [
       "<IPython.core.display.Markdown object>"
      ]
     },
     "metadata": {},
     "output_type": "display_data"
    },
    {
     "name": "stdout",
     "output_type": "stream",
     "text": [
      "Accuracy:                               84.26%\n",
      "Disparate Impact:                        0.6079\n",
      "False Positive Rate Ratio:               0.8653\n",
      "False Negative Rate Ratio:               0.6353\n",
      "Statistical Parity Difference:          -0.0842\n",
      "Equalized/Average odds difference:      0.0803\n",
      "Equal opportunity difference:           0.1694\n",
      "Theil index:                             0.1355\n",
      "Error Rate Difference:                  -0.1084\n"
     ]
    },
    {
     "data": {
      "text/markdown": [
       "##### Änderungen der Metrikwerte durch die Methode 'Reweighing'"
      ],
      "text/plain": [
       "<IPython.core.display.Markdown object>"
      ]
     },
     "metadata": {},
     "output_type": "display_data"
    },
    {
     "data": {
      "image/png": "[encoded data removed]",
      "text/plain": [
       "<Figure size 1080x360 with 3 Axes>"
      ]
     },
     "metadata": {
      "needs_background": "light"
     },
     "output_type": "display_data"
    }
   ],
   "source": [
    "display(Markdown(\"##### Fairness des Baseline Modells\"))\n",
    "describe_aif_metrics(aif_metrics_baseline)\n",
    "\n",
    "display(Markdown(\"##### Fairness Evaluierung: 'Reweighing'\"))\n",
    "aif_metrics_rw = get_aif_metrics(X_aif_test, predicted_classes_rw)\n",
    "describe_aif_metrics(aif_metrics_rw)\n",
    "\n",
    "display(Markdown(\"##### Änderungen der Metrikwerte durch die Methode 'Reweighing'\"))\n",
    "compare_models(aif_metrics_baseline, aif_metrics_rw)"
   ]
  },
  {
   "cell_type": "markdown",
   "id": "e27e65e4",
   "metadata": {},
   "source": [
    "Bei dieser Methode hat sich einiges in den Werten der Fairnessmetriken verändert, wobei die Klassifikationsgenauigkeit nur wenig beeinflusst wurde (-0,85%). Der drastischste Unterschied zeigt sich in der False Positive Rate Ratio. Mit einem Wert von ca. 0,2 wurden im Baseline Modell 5-mal so viele Männer wie Frauen positiv klassifiziert, obwohl sie laut Ground Truth negativ waren. Nach der Neugewichtung des Trainingsdatensatzes stieg der Wert der Metrik auf 0,87, was bedeutet, dass Männer im Vergleich zu Frauen nun \"nur noch\" 1,16-mal so oft zu Unrecht positiv klassifiziert werden. \n",
    "<br><br>\n",
    "Auch die False Negative Rate Ratio ist um ca. 0,57 gesunken und hat mit ihrem neuen Wert von 0,64 dabei den Fairnesswert von 1 sogar recht deutlich unterschritten. Der Klassifikator wies Männern nun 1,57-mal so oft wie Frauen fälschlicherweise ein negatives Ergebnis zu. \n",
    "Damit in Zusammenhang stehend beeinflusst das auch die Ergebnisse zu den True Positive Rates: Das Verhältnis der zu recht positiv klassifizierten Personen ist bei Frauen nun höher als bei Männern, was sich in der Verschiebung der Werte zur Equal Opportunity Difference in einen Bereich abzeichnet, der signalisiert, dass Frauen nun sogar bevorzugt wurden. \n",
    "<br>\n",
    "Die Average Odds Difference, die die Raten zu True Positives und False Positives vereint, verschob sich daraus ableitend somit auch in den \"grünen\" Bereich. \n",
    "<br><br>\n",
    "Weiterhin nicht allzu hoch bleibt der Wert zur Disparate Impact Metrik, wenn auch er sich stark verbessert hat. Der Wert dieser Metrik hängt jedoch stark von dem zu testenden Datensatz ab und bleibt somit auch niedrig, wenn die Daten auf einem Level individueller Fairness stark unausgeglichen sind."
   ]
  },
  {
   "cell_type": "markdown",
   "id": "d53551a1",
   "metadata": {},
   "source": [
    "## IN-PROCESSING"
   ]
  },
  {
   "cell_type": "markdown",
   "id": "b858ee74",
   "metadata": {},
   "source": [
    "### Adversarial Debiasing\n",
    "Bei dieser Methode wird neben dem ursprünglichen Klassifikator, dessen Vorhersagegenauigkeit im Training maximiert wird, gleichzeitig ein zusätzliches Modell trainiert, das die Wahrscheinlichkeit reduziert, das geschützte Attribut aus den  Vorhersagen des ersten Klassifikators zu bestimmen. Dieser wird somit fairer, da die Vorhersagen keine Informationen zur Gruppendiskriminierung mehr enthalten, die das zweite Modell ausnutzen kann."
   ]
  },
  {
   "cell_type": "code",
   "execution_count": 56,
   "id": "cd36ec73",
   "metadata": {},
   "outputs": [
    {
     "name": "stdout",
     "output_type": "stream",
     "text": [
      "INFO:tensorflow:Disabling eager execution\n"
     ]
    }
   ],
   "source": [
    "# Diese Methode erfordert das Deaktivieren der \"eager execution\" von tensorflow und verwendet konfigurierbare \"Sessions\" für das Training\n",
    "\n",
    "import tensorflow.compat.v1 as tf\n",
    "tf.disable_eager_execution()\n",
    "sess = tf.Session()"
   ]
  },
  {
   "cell_type": "markdown",
   "id": "2751c234",
   "metadata": {},
   "source": [
    "Die Implementierung der Adversarial Debiasing Methode in AIF360 erlaubt auch das Trainieren des Baseline-Klassifikators ohne AV-Mitigation. Zunächst wird also auch hier ein Baseline-Modell mit allen spezifischen Einstellungen der implementierten Methode trainiert, um die Fairness-Ergebnisse später besser vergleichbar zu machen. "
   ]
  },
  {
   "cell_type": "code",
   "execution_count": 57,
   "id": "2b50ab7c",
   "metadata": {},
   "outputs": [],
   "source": [
    "# Trainieren des Baseline-Klassifikators mit den definierten Eigenschaften der AIF360 Implementierung\n",
    "\n",
    "model_baseline_ad = AdversarialDebiasing(privileged_groups = privileged_group,\n",
    "                          unprivileged_groups = unprivileged_group,\n",
    "                          scope_name='baseline_model_ad',\n",
    "                          debias=False,  # keine AV Mitigation\n",
    "                          sess=sess)"
   ]
  },
  {
   "cell_type": "code",
   "execution_count": 58,
   "id": "815e18d9",
   "metadata": {
    "scrolled": true
   },
   "outputs": [
    {
     "name": "stdout",
     "output_type": "stream",
     "text": [
      "WARNING:tensorflow:From /opt/anaconda/envs/BAenv/lib/python3.9/site-packages/tensorflow/python/util/dispatch.py:206: calling dropout (from tensorflow.python.ops.nn_ops) with keep_prob is deprecated and will be removed in a future version.\n",
      "Instructions for updating:\n",
      "Please use `rate` instead of `keep_prob`. Rate should be set to `rate = 1 - keep_prob`.\n",
      "epoch 0; iter: 0; batch classifier loss: 0.655850\n",
      "epoch 1; iter: 0; batch classifier loss: 0.260206\n",
      "epoch 2; iter: 0; batch classifier loss: 0.323621\n",
      "epoch 3; iter: 0; batch classifier loss: 0.270233\n",
      "epoch 4; iter: 0; batch classifier loss: 0.288109\n",
      "epoch 5; iter: 0; batch classifier loss: 0.306727\n",
      "epoch 6; iter: 0; batch classifier loss: 0.271660\n",
      "epoch 7; iter: 0; batch classifier loss: 0.287862\n",
      "epoch 8; iter: 0; batch classifier loss: 0.342007\n",
      "epoch 9; iter: 0; batch classifier loss: 0.320762\n",
      "epoch 10; iter: 0; batch classifier loss: 0.262075\n",
      "epoch 11; iter: 0; batch classifier loss: 0.272190\n",
      "epoch 12; iter: 0; batch classifier loss: 0.363749\n",
      "epoch 13; iter: 0; batch classifier loss: 0.312825\n",
      "epoch 14; iter: 0; batch classifier loss: 0.234444\n",
      "epoch 15; iter: 0; batch classifier loss: 0.255082\n",
      "epoch 16; iter: 0; batch classifier loss: 0.415315\n",
      "epoch 17; iter: 0; batch classifier loss: 0.259796\n",
      "epoch 18; iter: 0; batch classifier loss: 0.266456\n",
      "epoch 19; iter: 0; batch classifier loss: 0.263132\n",
      "epoch 20; iter: 0; batch classifier loss: 0.259603\n",
      "epoch 21; iter: 0; batch classifier loss: 0.274811\n",
      "epoch 22; iter: 0; batch classifier loss: 0.259645\n",
      "epoch 23; iter: 0; batch classifier loss: 0.308835\n",
      "epoch 24; iter: 0; batch classifier loss: 0.267281\n",
      "epoch 25; iter: 0; batch classifier loss: 0.273903\n",
      "epoch 26; iter: 0; batch classifier loss: 0.239156\n",
      "epoch 27; iter: 0; batch classifier loss: 0.237650\n",
      "epoch 28; iter: 0; batch classifier loss: 0.235159\n",
      "epoch 29; iter: 0; batch classifier loss: 0.277215\n",
      "epoch 30; iter: 0; batch classifier loss: 0.281636\n",
      "epoch 31; iter: 0; batch classifier loss: 0.217987\n",
      "epoch 32; iter: 0; batch classifier loss: 0.215677\n",
      "epoch 33; iter: 0; batch classifier loss: 0.291938\n",
      "epoch 34; iter: 0; batch classifier loss: 0.210440\n",
      "epoch 35; iter: 0; batch classifier loss: 0.201679\n",
      "epoch 36; iter: 0; batch classifier loss: 0.279166\n",
      "epoch 37; iter: 0; batch classifier loss: 0.254408\n",
      "epoch 38; iter: 0; batch classifier loss: 0.326731\n",
      "epoch 39; iter: 0; batch classifier loss: 0.381683\n",
      "epoch 40; iter: 0; batch classifier loss: 0.318179\n",
      "epoch 41; iter: 0; batch classifier loss: 0.291662\n",
      "epoch 42; iter: 0; batch classifier loss: 0.256917\n",
      "epoch 43; iter: 0; batch classifier loss: 0.223759\n",
      "epoch 44; iter: 0; batch classifier loss: 0.293592\n",
      "epoch 45; iter: 0; batch classifier loss: 0.264747\n",
      "epoch 46; iter: 0; batch classifier loss: 0.299401\n",
      "epoch 47; iter: 0; batch classifier loss: 0.318455\n",
      "epoch 48; iter: 0; batch classifier loss: 0.224874\n",
      "epoch 49; iter: 0; batch classifier loss: 0.336042\n"
     ]
    },
    {
     "data": {
      "text/plain": [
       "<aif360.algorithms.inprocessing.adversarial_debiasing.AdversarialDebiasing at 0x7f14a6427ee0>"
      ]
     },
     "execution_count": 58,
     "metadata": {},
     "output_type": "execute_result"
    }
   ],
   "source": [
    "model_baseline_ad.fit(X_aif_train)"
   ]
  },
  {
   "cell_type": "code",
   "execution_count": 59,
   "id": "be24df01",
   "metadata": {},
   "outputs": [],
   "source": [
    "# Testen des Baseline Modells\n",
    "predicted_classes_baseline_ad = model_baseline_ad.predict(X_aif_test)"
   ]
  },
  {
   "cell_type": "code",
   "execution_count": 60,
   "id": "2a5317df",
   "metadata": {},
   "outputs": [
    {
     "data": {
      "text/markdown": [
       "##### Fairness des Adversarial Debiasing Baseline Modells"
      ],
      "text/plain": [
       "<IPython.core.display.Markdown object>"
      ]
     },
     "metadata": {},
     "output_type": "display_data"
    },
    {
     "name": "stdout",
     "output_type": "stream",
     "text": [
      "Accuracy:                               85.39%\n",
      "Disparate Impact:                        0.3264\n",
      "False Positive Rate Ratio:               0.2528\n",
      "False Negative Rate Ratio:               1.1800\n",
      "Statistical Parity Difference:          -0.1914\n",
      "Equalized/Average odds difference:      -0.0712\n",
      "Equal opportunity difference:           -0.0611\n",
      "Theil index:                             0.1133\n",
      "Error Rate Difference:                  -0.1121\n"
     ]
    },
    {
     "data": {
      "text/markdown": [
       "##### Neue Metrikwerte des Baseline Models für 'Adversarial Debiasing'"
      ],
      "text/plain": [
       "<IPython.core.display.Markdown object>"
      ]
     },
     "metadata": {},
     "output_type": "display_data"
    },
    {
     "data": {
      "image/png": "[encoded data removed]",
      "text/plain": [
       "<Figure size 1080x360 with 3 Axes>"
      ]
     },
     "metadata": {
      "needs_background": "light"
     },
     "output_type": "display_data"
    }
   ],
   "source": [
    "display(Markdown(\"##### Fairness des Adversarial Debiasing Baseline Modells\"))\n",
    "\n",
    "aif_metrics_ad_baseline = get_aif_metrics(X_aif_test, predicted_classes_baseline_ad.labels)\n",
    "describe_aif_metrics(aif_metrics_ad_baseline)\n",
    "\n",
    "# Vergleichen der Fairnessresultate des Adversarial Debiasing Baseline Modells und des eigenen Baseline Modells\n",
    "display(Markdown(\"##### Neue Metrikwerte des Baseline Modells für 'Adversarial Debiasing'\"))\n",
    "compare_models(aif_metrics_baseline, aif_metrics_ad_baseline)"
   ]
  },
  {
   "cell_type": "markdown",
   "id": "e944e5d6",
   "metadata": {},
   "source": [
    "Die Fairnesswerte des Baseline \"Adversarial Debiasing\" Modells unterscheiden sich kaum zu dem eigenen, logistischen Regressions-Baseline Modell von zuvor. Nun wird der gleiche Klassifikator erneut trainiert, diesmal jedoch mit dem gegnerischen Modell zur AV Mitigation."
   ]
  },
  {
   "cell_type": "code",
   "execution_count": 61,
   "id": "b6c0625e",
   "metadata": {},
   "outputs": [],
   "source": [
    "# neue Session eröffnen\n",
    "sess.close()\n",
    "tf.reset_default_graph()\n",
    "sess = tf.Session()"
   ]
  },
  {
   "cell_type": "code",
   "execution_count": 62,
   "id": "e9b1b48e",
   "metadata": {},
   "outputs": [],
   "source": [
    "# Erneutes Lernen, diesmal mit dem Parameter 'debias' = True\n",
    "model_ad = AdversarialDebiasing(privileged_groups = privileged_group,\n",
    "                          unprivileged_groups = unprivileged_group,\n",
    "                          scope_name='model_ad',\n",
    "                          debias=True,\n",
    "                          sess=sess)"
   ]
  },
  {
   "cell_type": "code",
   "execution_count": 63,
   "id": "f7d8b683",
   "metadata": {
    "scrolled": true
   },
   "outputs": [
    {
     "name": "stdout",
     "output_type": "stream",
     "text": [
      "epoch 0; iter: 0; batch classifier loss: 0.725032; batch adversarial loss: 0.650454\n",
      "epoch 1; iter: 0; batch classifier loss: 0.413841; batch adversarial loss: 0.602810\n",
      "epoch 2; iter: 0; batch classifier loss: 0.334356; batch adversarial loss: 0.626587\n",
      "epoch 3; iter: 0; batch classifier loss: 0.262740; batch adversarial loss: 0.657495\n",
      "epoch 4; iter: 0; batch classifier loss: 0.364307; batch adversarial loss: 0.590680\n",
      "epoch 5; iter: 0; batch classifier loss: 0.343612; batch adversarial loss: 0.606603\n",
      "epoch 6; iter: 0; batch classifier loss: 0.355603; batch adversarial loss: 0.635223\n",
      "epoch 7; iter: 0; batch classifier loss: 0.370577; batch adversarial loss: 0.660725\n",
      "epoch 8; iter: 0; batch classifier loss: 0.274361; batch adversarial loss: 0.698311\n",
      "epoch 9; iter: 0; batch classifier loss: 0.375029; batch adversarial loss: 0.680014\n",
      "epoch 10; iter: 0; batch classifier loss: 0.458652; batch adversarial loss: 0.646053\n",
      "epoch 11; iter: 0; batch classifier loss: 0.335042; batch adversarial loss: 0.605824\n",
      "epoch 12; iter: 0; batch classifier loss: 0.303620; batch adversarial loss: 0.646500\n",
      "epoch 13; iter: 0; batch classifier loss: 0.273225; batch adversarial loss: 0.607278\n",
      "epoch 14; iter: 0; batch classifier loss: 0.301848; batch adversarial loss: 0.629400\n",
      "epoch 15; iter: 0; batch classifier loss: 0.332521; batch adversarial loss: 0.630171\n",
      "epoch 16; iter: 0; batch classifier loss: 0.310062; batch adversarial loss: 0.670648\n",
      "epoch 17; iter: 0; batch classifier loss: 0.286834; batch adversarial loss: 0.660722\n",
      "epoch 18; iter: 0; batch classifier loss: 0.348981; batch adversarial loss: 0.619590\n",
      "epoch 19; iter: 0; batch classifier loss: 0.351066; batch adversarial loss: 0.628596\n",
      "epoch 20; iter: 0; batch classifier loss: 0.245582; batch adversarial loss: 0.610372\n",
      "epoch 21; iter: 0; batch classifier loss: 0.419164; batch adversarial loss: 0.605662\n",
      "epoch 22; iter: 0; batch classifier loss: 0.345960; batch adversarial loss: 0.619953\n",
      "epoch 23; iter: 0; batch classifier loss: 0.240723; batch adversarial loss: 0.619403\n",
      "epoch 24; iter: 0; batch classifier loss: 0.333211; batch adversarial loss: 0.585754\n",
      "epoch 25; iter: 0; batch classifier loss: 0.384561; batch adversarial loss: 0.669831\n",
      "epoch 26; iter: 0; batch classifier loss: 0.288949; batch adversarial loss: 0.599076\n",
      "epoch 27; iter: 0; batch classifier loss: 0.310737; batch adversarial loss: 0.567454\n",
      "epoch 28; iter: 0; batch classifier loss: 0.348020; batch adversarial loss: 0.582909\n",
      "epoch 29; iter: 0; batch classifier loss: 0.249790; batch adversarial loss: 0.623133\n",
      "epoch 30; iter: 0; batch classifier loss: 0.346159; batch adversarial loss: 0.615463\n",
      "epoch 31; iter: 0; batch classifier loss: 0.246031; batch adversarial loss: 0.644280\n",
      "epoch 32; iter: 0; batch classifier loss: 0.322157; batch adversarial loss: 0.602441\n",
      "epoch 33; iter: 0; batch classifier loss: 0.300464; batch adversarial loss: 0.623998\n",
      "epoch 34; iter: 0; batch classifier loss: 0.538966; batch adversarial loss: 0.658319\n",
      "epoch 35; iter: 0; batch classifier loss: 0.321276; batch adversarial loss: 0.619861\n",
      "epoch 36; iter: 0; batch classifier loss: 0.338638; batch adversarial loss: 0.618039\n",
      "epoch 37; iter: 0; batch classifier loss: 0.295510; batch adversarial loss: 0.630174\n",
      "epoch 38; iter: 0; batch classifier loss: 0.184153; batch adversarial loss: 0.646731\n",
      "epoch 39; iter: 0; batch classifier loss: 0.298264; batch adversarial loss: 0.582632\n",
      "epoch 40; iter: 0; batch classifier loss: 0.236771; batch adversarial loss: 0.693520\n",
      "epoch 41; iter: 0; batch classifier loss: 0.333827; batch adversarial loss: 0.585803\n",
      "epoch 42; iter: 0; batch classifier loss: 0.289233; batch adversarial loss: 0.679037\n",
      "epoch 43; iter: 0; batch classifier loss: 0.445406; batch adversarial loss: 0.601246\n",
      "epoch 44; iter: 0; batch classifier loss: 0.308431; batch adversarial loss: 0.618321\n",
      "epoch 45; iter: 0; batch classifier loss: 0.388343; batch adversarial loss: 0.600720\n",
      "epoch 46; iter: 0; batch classifier loss: 0.378327; batch adversarial loss: 0.582573\n",
      "epoch 47; iter: 0; batch classifier loss: 0.277643; batch adversarial loss: 0.618702\n",
      "epoch 48; iter: 0; batch classifier loss: 0.240562; batch adversarial loss: 0.693606\n",
      "epoch 49; iter: 0; batch classifier loss: 0.409847; batch adversarial loss: 0.643855\n"
     ]
    },
    {
     "data": {
      "text/plain": [
       "<aif360.algorithms.inprocessing.adversarial_debiasing.AdversarialDebiasing at 0x7f14a4946820>"
      ]
     },
     "execution_count": 63,
     "metadata": {},
     "output_type": "execute_result"
    }
   ],
   "source": [
    "model_ad.fit(X_aif_train)"
   ]
  },
  {
   "cell_type": "code",
   "execution_count": 64,
   "id": "53486732",
   "metadata": {
    "scrolled": true
   },
   "outputs": [],
   "source": [
    "# Testen des neuen Modells\n",
    "predicted_classes_ad = model_ad.predict(X_aif_test)"
   ]
  },
  {
   "cell_type": "code",
   "execution_count": 65,
   "id": "48f7cb82",
   "metadata": {},
   "outputs": [
    {
     "data": {
      "text/markdown": [
       "##### Fairness des Baseline Models"
      ],
      "text/plain": [
       "<IPython.core.display.Markdown object>"
      ]
     },
     "metadata": {},
     "output_type": "display_data"
    },
    {
     "name": "stdout",
     "output_type": "stream",
     "text": [
      "Accuracy:                               85.11%\n",
      "Disparate Impact:                        0.2995\n",
      "False Positive Rate Ratio:               0.1989\n",
      "False Negative Rate Ratio:               1.2062\n",
      "Statistical Parity Difference:          -0.1832\n",
      "Equalized/Average odds difference:      -0.0777\n",
      "Equal opportunity difference:           -0.0788\n",
      "Theil index:                             0.1233\n",
      "Error Rate Difference:                  -0.1172\n"
     ]
    },
    {
     "data": {
      "text/markdown": [
       "##### Fairness Evaluierung: 'Adversarial Debiasing'"
      ],
      "text/plain": [
       "<IPython.core.display.Markdown object>"
      ]
     },
     "metadata": {},
     "output_type": "display_data"
    },
    {
     "name": "stdout",
     "output_type": "stream",
     "text": [
      "Accuracy:                               84.09%\n",
      "Disparate Impact:                        0.7504\n",
      "False Positive Rate Ratio:               1.3933\n",
      "False Negative Rate Ratio:               0.5161\n",
      "Statistical Parity Difference:          -0.0433\n",
      "Equalized/Average odds difference:      0.1375\n",
      "Equal opportunity difference:           0.2598\n",
      "Theil index:                             0.1480\n",
      "Error Rate Difference:                  -0.1176\n"
     ]
    },
    {
     "data": {
      "text/markdown": [
       "##### Änderungen der Metrikwerte durch die Methode 'Adversarial Debiasing'"
      ],
      "text/plain": [
       "<IPython.core.display.Markdown object>"
      ]
     },
     "metadata": {},
     "output_type": "display_data"
    },
    {
     "data": {
      "image/png": "[encoded data removed]",
      "text/plain": [
       "<Figure size 1080x360 with 3 Axes>"
      ]
     },
     "metadata": {
      "needs_background": "light"
     },
     "output_type": "display_data"
    }
   ],
   "source": [
    "display(Markdown(\"##### Fairness des Baseline Modells\"))\n",
    "describe_aif_metrics(aif_metrics_baseline)\n",
    "\n",
    "display(Markdown(\"##### Fairness Evaluierung: 'Adversarial Debiasing'\"))\n",
    "aif_metrics_ad = get_aif_metrics(X_aif_test, predicted_classes_ad.labels)\n",
    "describe_aif_metrics(aif_metrics_ad)\n",
    "\n",
    "# Vergleichen der Fairnessresultate des Adversarial Debiasing Baseline Modells und des neuen AV-reduzierten Modells\n",
    "display(Markdown(\"##### Änderungen der Metrikwerte durch die Methode 'Adversarial Debiasing'\"))\n",
    "compare_models(aif_metrics_ad_baseline, aif_metrics_ad)"
   ]
  },
  {
   "cell_type": "markdown",
   "id": "14ffeff7",
   "metadata": {},
   "source": [
    "Auch bei der In-Processing Methode 'Adversarial Debiasing\" hat die Klassifikationsgenauigkeit nur geringfügig abgenommen (-1,02%). Ähnlich den Ergebnissen der \"Reweighing\" Pre-Processing Methode zeigt sich auch hier die größte Veränderung in der False Positive Rate Ratio. Der Wert überschritt das Fairnesslevel 1 und stieg auf 1,4, d.h. nun wurden Frauen ca. 2,5-mal so häufig zu Unrecht positiv klassifiziert wie Männer. \n",
    "<br> <br>\n",
    "Ähnlich verhält es sich mit der False Negative Rate Ratio, sie hat das Fairnesslevel mit einem neuen Wert von 0,52 unterschritten, was nun mehr Vorteile für Frauen bedeutet: Männer werden im Vergleich zu Frauen nun fast 2-mal so oft fälschlicherweise negativ klassifiziert. Durch diese häufigeren Negativ-Werte für Männer stieg nun jedoch auch die Disparate Impact Metrik von 0,3 auf 0,75, was das bisher beste Ergebnis für diese Metrik bedeutet: Das Verhältnis der positiven Vorhersagen zwischen Frauen und Männern ist hier somit am ausgeglichensten (wobei Frauen nach wie vor weniger positive Labels erhielten). Die Statistical Parity Metrik näherte sich ihrem Optimalwert von 0 sehr stark an. \n",
    "<br><br>\n",
    "Ähnlich der 'Reweighing\" Methode stiegen auch die Werte für die Average Odds- und Equal Opportunity Metrik an, wobei sie ebenfalls die Fairnessschwelle überschritten, was einen Vorteil für Frauen hinsichtlich der True Positive Rate bedeutet. \n",
    "<br><br>\n",
    "Der Theil Index stieg leicht an, was eine etwas geringere individuelle Fairness bedeutet. Die Fehlerratendifferenz blieb relativ konstant."
   ]
  },
  {
   "cell_type": "markdown",
   "id": "41d2c33c",
   "metadata": {},
   "source": [
    "## POST-PROCESSING"
   ]
  },
  {
   "cell_type": "markdown",
   "id": "765668d4",
   "metadata": {},
   "source": [
    "### Reject Option Cassification\n",
    "Reject Option Classification ist eine Post-Processing Methode, die mithilfe eines weiteren Validationsdatensatzes und einer gewählten Fairnessmetrik Parameter erlernt, um die Resultate eines bestehenden Modells anzupassen. Da bei dieser Methode ein Validationsdatensatz benötigt wird, um vorhandene Voreingenommenheiten zu erkennen und mit der gewählten Fairnessmetrik abzugleichen, werden für diesen Versuch drei Datensätze benötigt. Der erste wird wie zuvor zum Trainieren des Baseline-Klassifikators verwendet, der zweite zum Erlernen der Fairnesskriterien-spezifischen Parameter für die Anpassung des bestehenden Modells und der dritte letztendlich zum Testen."
   ]
  },
  {
   "cell_type": "code",
   "execution_count": 66,
   "id": "9646d07f",
   "metadata": {},
   "outputs": [],
   "source": [
    "# Teilen des Test-Datensatzes in zwei Teile, einen zum \"Umtrainieren\" (Validation), einer zum Testen (Test)\n",
    "roc_data_val, roc_data_test = X_aif_test.split([0.5], shuffle=True)"
   ]
  },
  {
   "cell_type": "code",
   "execution_count": 67,
   "id": "52e3c63e",
   "metadata": {},
   "outputs": [],
   "source": [
    "# Index der positiven Klasse\n",
    "pos_ind = 1\n",
    "\n",
    "# Baseline Vorhersagen des Valdiation Datensatzes berechnen\n",
    "predicted_scores_roc_val = roc_data_val.copy(deepcopy=True)  \n",
    "# Daten und Labels extrahieren\n",
    "roc_X_val = predicted_scores_roc_val.features \n",
    "roc_y_val = predicted_scores_roc_val.labels\n",
    "predicted_scores_roc_val.scores = model_baseline.predict_proba(roc_X_val)[:,pos_ind].reshape(-1,1) "
   ]
  },
  {
   "cell_type": "markdown",
   "id": "80c759bf",
   "metadata": {},
   "source": [
    "Mit den Baseline Vorhersagen und der Ground Truth des Validationsdatensatzes können nun in Verbindung mit einer gewählten Fairnessmetrik die Parameter des Post-Processing Algorithmus angepasst werden. Die AIF360 Implementierung der 'Reject Option Classification' unterstützt die Resultatanpassung anhand drei unterschiedlicher Fairnessmetriken: Statistical Parity Difference, Average Odds Difference und Equal Opportunity Difference. <br>\n",
    "Die Statistical Parity Metrik wurde zuvor bereits mit der Pre-Processing Methode \"Reweighing\" optimiert. Beide übrigen Metriken beziehen sich auf die True Positive Rate. Die Average Odds Difference erweitert ihre Fairnesskriterien jedoch zusätzlich um die False Positive Rate und ist somit ein umfassender Indikator für Fairness. Aus diesem Grund wird diese Metrik für die Fairnessoptimierung verwendet. Somit werden die Parameter des Reject Option Classification Objektes anhand dieser Kriterien und den Baseline Ergebnissen der Validationsdaten berechnet."
   ]
  },
  {
   "cell_type": "code",
   "execution_count": 68,
   "id": "d1f0212b",
   "metadata": {},
   "outputs": [],
   "source": [
    "# Auswahl der Metrik, die für die Optimierung verwendet werden soll\n",
    "metric_name = \"Average odds difference\" \n",
    "\n",
    "# Fairnessmetrikintervall definieren: Obere und untere Grenze für die verwendete Metrik\n",
    "metric_ub = 0.05  # 'upper bound'\n",
    "metric_lb = -0.05  # 'lower bound'\n",
    "\n",
    "# Schätzung der optimalen ROC Parameter basierend auf der gewählten Metrik\n",
    "ROC = RejectOptionClassification(unprivileged_groups=unprivileged_group, \n",
    "                                 privileged_groups=privileged_group, \n",
    "                                 low_class_thresh=0.01, high_class_thresh=0.99,  # Obere und untere Klassifizierungsschwelle, die bei der Optimierung verwendet werden soll\n",
    "                                  num_class_thresh=100, num_ROC_margin=50,\n",
    "                                  metric_name=metric_name,\n",
    "                                  metric_ub=metric_ub, metric_lb=metric_lb)\n",
    "\n",
    "ROC = ROC.fit(roc_data_val, predicted_scores_roc_val)  # \"fitting\" anhand der Baseline Vorhersagen des Validation Datensatzes"
   ]
  },
  {
   "cell_type": "code",
   "execution_count": 69,
   "id": "a636881f",
   "metadata": {},
   "outputs": [],
   "source": [
    "# Baseline Vorhersagen des Test Datensatzes berechnen\n",
    "predicted_scores_roc_test = roc_data_test.copy(deepcopy=True)\n",
    "# Daten und Labels extrahieren\n",
    "roc_X_test = predicted_scores_roc_test.features\n",
    "roc_y_test = predicted_scores_roc_test.labels"
   ]
  },
  {
   "cell_type": "code",
   "execution_count": 70,
   "id": "1441fd07",
   "metadata": {},
   "outputs": [],
   "source": [
    "predicted_scores_roc_test.scores = model_baseline.predict_proba(roc_X_test)[:,pos_ind].reshape(-1,1) "
   ]
  },
  {
   "cell_type": "markdown",
   "id": "36709193",
   "metadata": {},
   "source": [
    "'predicted_scores_roc_test' beinhaltet nun die Testdatensatz-Vorhersagen des voreigenommenen Baseline Modells, die in weiterer Folge durch die Post-Processing Methode transformiert werden."
   ]
  },
  {
   "cell_type": "code",
   "execution_count": 71,
   "id": "4a572583",
   "metadata": {},
   "outputs": [],
   "source": [
    "# Anpassung der Baseline-Vorhersagen mittles ROC\n",
    "transformed_predicted_scores_roc_test = ROC.predict(predicted_scores_roc_test)  "
   ]
  },
  {
   "cell_type": "code",
   "execution_count": 72,
   "id": "3d24a1b8",
   "metadata": {},
   "outputs": [
    {
     "data": {
      "text/markdown": [
       "##### Fairness des Baseline Modells"
      ],
      "text/plain": [
       "<IPython.core.display.Markdown object>"
      ]
     },
     "metadata": {},
     "output_type": "display_data"
    },
    {
     "name": "stdout",
     "output_type": "stream",
     "text": [
      "Accuracy:                               85.11%\n",
      "Disparate Impact:                        0.2995\n",
      "False Positive Rate Ratio:               0.1989\n",
      "False Negative Rate Ratio:               1.2062\n",
      "Statistical Parity Difference:          -0.1832\n",
      "Equalized/Average odds difference:      -0.0777\n",
      "Equal opportunity difference:           -0.0788\n",
      "Theil index:                             0.1233\n",
      "Error Rate Difference:                  -0.1172\n"
     ]
    },
    {
     "data": {
      "text/markdown": [
       "##### Fairness Evaluierung: 'Reject Option Classification - Average Odds Difference'"
      ],
      "text/plain": [
       "<IPython.core.display.Markdown object>"
      ]
     },
     "metadata": {},
     "output_type": "display_data"
    },
    {
     "name": "stdout",
     "output_type": "stream",
     "text": [
      "Accuracy:                               81.22%\n",
      "Disparate Impact:                        0.5103\n",
      "False Positive Rate Ratio:               0.5666\n",
      "False Negative Rate Ratio:               0.8678\n",
      "Statistical Parity Difference:          -0.1952\n",
      "Equalized/Average odds difference:      -0.0335\n",
      "Equal opportunity difference:           0.0275\n",
      "Theil index:                             0.0926\n",
      "Error Rate Difference:                  -0.0848\n"
     ]
    },
    {
     "data": {
      "text/markdown": [
       "##### Änderungen der Metrikwerte durch die Methode 'Reject Option Classification - Average Odds Difference'"
      ],
      "text/plain": [
       "<IPython.core.display.Markdown object>"
      ]
     },
     "metadata": {},
     "output_type": "display_data"
    },
    {
     "data": {
      "image/png": "[encoded data removed]",
      "text/plain": [
       "<Figure size 1080x360 with 3 Axes>"
      ]
     },
     "metadata": {
      "needs_background": "light"
     },
     "output_type": "display_data"
    }
   ],
   "source": [
    "display(Markdown(\"##### Fairness des Baseline Modells\"))\n",
    "describe_aif_metrics(aif_metrics_baseline)\n",
    "\n",
    "display(Markdown(\"##### Fairness Evaluierung: 'Reject Option Classification - Average Odds Difference'\"))\n",
    "aif_metrics_roc = get_aif_metrics(roc_data_test, transformed_predicted_scores_roc_test.labels)\n",
    "describe_aif_metrics(aif_metrics_roc)\n",
    "\n",
    "display(Markdown(\"##### Änderungen der Metrikwerte durch die Methode 'Reject Option Classification - Average Odds Difference'\"))\n",
    "compare_models(aif_metrics_baseline, aif_metrics_roc)"
   ]
  },
  {
   "cell_type": "markdown",
   "id": "4998c50d",
   "metadata": {},
   "source": [
    "Die Klassifikationsgenauigkeit ist durch die Anwendung der 'Reject Option Classification' Methode mit der 'Average Odds Difference' Metrik auf 81,22% (-3,89%) gesunken, was von allen Mitigationsansätzen somit den größten Verlust an Klassifikationsgenauigkeit bedeutet. Die Average Odds Metrik stieg auf -0,0335 an, verbesserte sich relativ gesehen also um etwa das Doppelte. Wenig überraschend stieg auch die Equal Opportunity Difference an und überschritt dabei sogar leicht das Fairnessziel von 1.  \n",
    "<br>\n",
    "Die Metriken Statistical Parity, Theil Index und Error Rate Difference blieben relativ konstant, wobei der Theil Index eine leichte Verbesserung der individuellen Fairness anzeigt.\n",
    "<br><br>\n",
    "Anders verhält es sich mit dem Disparate Impact Wert, er stieg auf 0,51 (+0,21) und zeigte somit einen merklichen, im Vergleich zu den anderen AIF360 AV-Mitigationsalgorithmen jedoch dennoch den kleinsten Anstieg. Auch der Anstieg der False Positive Rate um 0,37 fiel im Vergleich zu den anderen Methoden am geringsten aus. Die False Negative Rate kam mit ihrem neuen Wert von 0,87 relativ nahe an das Fairnessziel."
   ]
  },
  {
   "cell_type": "markdown",
   "id": "198c8ae3",
   "metadata": {},
   "source": [
    "# Vergleich der Mitigationsmethoden und Fazit"
   ]
  },
  {
   "cell_type": "markdown",
   "id": "8eba4588",
   "metadata": {},
   "source": [
    "### Zusammenfassung\n",
    "Im Laufe dieses Notebooks wurde ein Klassifikator trainiert, der für Personen vorhersagt, ob sie vermutlich weniger, oder mehr als 50.000$ pro Jahr verdienen. Dabei lag der Fokus auf dem Untersuchen von Voreingenommenheiten bezüglich des sensitiven Attributes Geschlecht. Analysen und Visualisierungen zeigten, dass der Datensatz bereits unausgeglichen und voreingenommen war: Frauen waren unterrepräsentiert und hatten auch seltener ein positives Ground Truth Label. Das Trainieren eines Baseline Modells mit diesen Daten zeigte, dass die Voreingenommenheiten durch das Modell zusätzlich verstärkt wurden.\n",
    "Im Anschluss wurden folgende Mitigationsmethoden angewendet, um deren Auswirkungen auf die Fairness anhand unterschiedlicher Fairnessdefinitionen (Metriken) zu untersuchen:\n",
    "- Fairness durch Unbewusstsein (Pre-Processing)\n",
    "- Reweighing (Pre-Processing)\n",
    "- Adversarial Debiasing (In-Processing)\n",
    "- Reject Option Classification (Post-Processing)\n"
   ]
  },
  {
   "cell_type": "markdown",
   "id": "a10191cf",
   "metadata": {},
   "source": [
    "### Vergleichen der Ergebnisse aller Mitigationsansätze"
   ]
  },
  {
   "cell_type": "code",
   "execution_count": 73,
   "id": "3918ac47",
   "metadata": {},
   "outputs": [],
   "source": [
    "# dictionary aller errechneten Metriken erstellen\n",
    "all_metrics = {}\n",
    "all_metrics['baseline'] = aif_metrics_baseline\n",
    "all_metrics['ua'] = aif_metrics_ua\n",
    "all_metrics['rw'] = aif_metrics_rw\n",
    "all_metrics['ad'] = aif_metrics_ad\n",
    "all_metrics['roc'] = aif_metrics_roc"
   ]
  },
  {
   "cell_type": "code",
   "execution_count": 74,
   "id": "9d9cab79",
   "metadata": {},
   "outputs": [],
   "source": [
    "# Methode zum vergleichenden Visualisieren aller Fairnessergebnisse der AV-Mitigationsmethoden\n",
    "\n",
    "def compare_all_models(all_metrics):\n",
    "    \n",
    "    colors = ['grey', 'red', 'blue', 'green', 'orange']\n",
    "    \n",
    "    fig = plt.figure(figsize=(15, 5))\n",
    "    gs = gridspec.GridSpec(1, 3, width_ratios=[1,3,5]) \n",
    "    ax0 = plt.subplot(gs[0])\n",
    "    ax1 = plt.subplot(gs[1])\n",
    "    ax2 = plt.subplot(gs[2])\n",
    "    \n",
    "    x_coord = 0\n",
    "    color_index = 0\n",
    "    patches = []\n",
    "    for metrics in all_metrics:  # metrics = baseline - ua - rw - ad - roc\n",
    "        if metrics == 'baseline':\n",
    "            markersize = 500\n",
    "        else:\n",
    "            markersize = 100\n",
    "        for metric in all_metrics[metrics]:  # metric = acc - disp_imp - (...)\n",
    "            if metric == 'acc':\n",
    "                ax0.scatter(metric, all_metrics[metrics][metric], label=metrics, color = colors[color_index], marker='_', s=markersize)\n",
    "            elif metric == 'disp_imp' or metric == 'fnrr' or metric == 'fprr':\n",
    "                ax1.scatter(metric, all_metrics[metrics][metric], label=metrics, color = colors[color_index], marker='_', s=markersize)\n",
    "            else: \n",
    "                ax2.scatter(metric, all_metrics[metrics][metric], label=metrics, color = colors[color_index], marker='_', s=markersize)\n",
    "            x_coord += 1\n",
    "        patches.append(mpatches.Patch(color=colors[color_index], label=metrics))\n",
    "        color_index += 1\n",
    "   \n",
    "    ax0.set_ylim(0,1)\n",
    "    ax0.set_title('Genauigkeit')\n",
    "    ax0.set_yticks(np.arange(0, 1, step=0.1))\n",
    "    ax0.axhspan(0, 0.75, 0, 1, facecolor='red', alpha=0.02)\n",
    "    ax0.axhspan(0.75, 1, 0, 1, facecolor='green', alpha=0.05)\n",
    "    \n",
    "    ax1.set_ylim(0, 2)\n",
    "    ax1.set_title('Fairness = 1')\n",
    "    ax1.set_yticks(np.arange(0, 2, step=0.2))\n",
    "    ax1.hlines(1, -0.5, 2.5, color='green', linewidth=0.8)\n",
    "    ax1.axhspan(0, 1, 0, 0.7, facecolor='red', alpha=0.02)\n",
    "    ax1.axhspan(1, 2, 0, 0.7, facecolor='green', alpha=0.05)\n",
    "    ax1.axhspan(1, 2, 0.7, 1, facecolor='red', alpha=0.02)\n",
    "    ax1.axhspan(0, 1, 0.7, 1, facecolor='green', alpha=0.05)\n",
    "    \n",
    "    ax2.set_ylim(-1,1)\n",
    "    ax2.set_title('Fairness = 0')\n",
    "    ax2.set_yticks(np.arange(-1, 1, step=0.2))\n",
    "    ax2.hlines(0, -0.5, 4.5, color='blue', linewidth=0.8)\n",
    "    ax2.axhspan(-1, 0, 0, 0.55, facecolor='red', alpha=0.02)\n",
    "    ax2.axhspan(0, 1, 0, 0.55, facecolor='green', alpha=0.05)\n",
    "    ax2.axhspan(0, 1, 0.55, 1, facecolor='red', alpha=0.02)\n",
    "    ax2.axhspan(-1, 0, 0.55, 1, facecolor='green', alpha=0.05)\n",
    "    ax2.legend(handles=patches)\n",
    "    \n",
    "    plt.show()"
   ]
  },
  {
   "cell_type": "code",
   "execution_count": 75,
   "id": "5b129b3f",
   "metadata": {},
   "outputs": [
    {
     "data": {
      "text/markdown": [
       "## Fairness Evaluierung: Alle Mitigationsmethoden im Vergleich"
      ],
      "text/plain": [
       "<IPython.core.display.Markdown object>"
      ]
     },
     "metadata": {},
     "output_type": "display_data"
    },
    {
     "data": {
      "image/png": "[encoded data removed]",
      "text/plain": [
       "<Figure size 1080x360 with 3 Axes>"
      ]
     },
     "metadata": {
      "needs_background": "light"
     },
     "output_type": "display_data"
    }
   ],
   "source": [
    "# Visualisieren aller Ergebnisse\n",
    "display(Markdown(\"## Fairness Evaluierung: Alle Mitigationsmethoden im Vergleich\"))\n",
    "compare_all_models(all_metrics)"
   ]
  },
  {
   "cell_type": "markdown",
   "id": "c8535ae8",
   "metadata": {},
   "source": [
    "### Fazit\n",
    "Durch das Analysieren des ursprünglichen Datensatzes wurde klar: Algorithmische Voreingenommenheit ist sehr komplex. Verwendete Attribute in den Daten sind nicht voneinander unabhängig, sondern beeinflussen sich gegenseitig und produzieren somit potenziell ungewollte Muster, die das Modell später aufgreifen kann, wodurch Voreingenommenheiten entstehen können. Das Gewährleisten von Fairness in Machine Learning lässt sich somit nicht auf das Identifizieren und Entfernen von sensitiven Attributen beschränken, wie die Ergebnisse der Mitigationsmethode \"Fairness durch Unbewusstsein\" zeigte. Die Fairnesswerte veränderten sich nur wenig im Vergleich zu den Ergebnissen des Baseline Modells. <br>\n",
    "Ein weiteres Problem ist die Vielseitigkeit von möglicher AV. In diesem Experiment wurde nur Fairness bezogen auf das sensitive Attribut Geschlecht betrachtet, aus den Visualisierungen des Datensatzes wurde jedoch ersichtlich, dass auch sehr hohes Diskriminierungspotenzial bezogen auf das Attribut 'race' besteht, eventuell auch auf das (eigentlich nicht zwangsläufig sensitive) Attribut Alter. Diese Akkumulation an möglichen Voreingenommenheiten über verschiedene Untergruppen erschwert das Aufspüren, messbar machen und letztendlich das Abmildern von Voreingenommenheiten. Eine genaue Auseinandersetzung des verwendeten Datensatzes ist somit für die Entwicklung eines fairen KI-Systems unerlässlich. <br>\n",
    "Die nächste Herausforderung ist die Auswahl der richtigen Fairnessmetriken. Es gibt mittlerweile unzählige Implementierungen der unterschiedlichsten Fairnessdefinitionen: bezogen auf TP-, FP-, TN-, FN-Raten, Differenzen und Verhältnissen, Kombinationen, Fehlerraten, Gruppenfairness, individueller Fairness, Fairness nach Untergruppen, usw. Jede dieser Metriken wird durch verwendete Mitigationsmethoden unterschiedlich stark, manchmal sogar in unterschiedliche Richtungen beeinflusst. Die \"wichtigste\" Metrik zu wählen, erfordert somit ein ausführliches Auseinandersetzen mit dem Ziel des Systems und den relevantesten Ansprüchen an Fairness. Eine Aufgabe, die viel Zeit und Recherche bedarf, jedoch die Voraussetzung für die passende Wahl des Mitigationsansatzes ist.\n",
    "<br><br>\n",
    "Aus diesem Grund lässt sich auch die Frage, welche der Methoden für die besten Fairnessergebnisse gesorgt hat, nicht direkt beantworten. \n",
    "<br><br>\n",
    "Keiner der untersuchten Methoden konnte in allen betrachteten Metriken die besten Ergebnisse erzielen. Die Pre-Processing Methode \"Reweighing\" sorgte in diesem Anwendungsfall für relativ konstante Verbesserungen über die unterschiedlichen Metriken, ohne dabei die Klassifikationsgenauigkeit stark zu beeinflussen.\n",
    "<br>\n",
    "Die In-Processing Methode 'Adversarial Debiasing' bewirkte durch die Bank die größten Veränderungen der Metrikwerte. Das bedeutete jedoch nicht das Erreichen der besten Fairness, da diese Methode oftmals \"über das Ziel hinausschoss\" und die Voreingenommenheiten sich auf die privilegierte Gruppe verlagerten, etwa bezogen auf die False Positive und False Negative Rate. Mit dieser Methode konnte jedoch der beste Disparate Impact Wert erreicht werden, was bedeutet, dass die positiven Resultate für Frauen und Männer hier am ausgeglichensten ausfielen.\n",
    "<br>\n",
    "Die Post-Processing Methode 'Reject Option Classification' mit der Optimierung bezüglich der 'Average Odds Difference' sorgte für die besten Metrikwerte hinsichtlich der Verhältnisse der True Positive Ratens, individueller Fairness und Fehlerraten zwischen den Gruppen. Bezogen auf die Ausgeglichenheit der positiven Ergebnisse und dem Verhältnis der False Positive Raten beider Gruppen waren andere Methoden jedoch besser geeignet. Auch sorgte dieser Algorithmus für die größten Einbußen in der Klassifikationsgenauigkeit.\n",
    "<br>\n",
    "Was auffällt ist, dass die individuelle Fairness (gemessen am Theil Index) durch keine der Methoden stark beeinflusst wurde. Der Fokus der verfügbaren Mitigationsmethoden (sowie Metriken) ist somit mehr auf das Erzielen von Gruppenfairness gerichtet. Die größten Unterschiede der Fairnesswerte durch die verwendeten Methoden fanden sich in der False Positive Rate Ratio, also dem Verhältnis der zu Unrecht positiv klassifizierten Fälle beider Gruppen. Auch die False Negative Rate Ratio zeigte sehr unterschiedlich hohe Ergebnisse. Auffällig ist hierbei jedoch, dass alle Ansätze (außer Fairness durch Unbewusstsein) die Voreingenommenheit bezüglich dieser Metrik auf die privilegierte Gruppe rückten. Alle Algorithmen sorgten somit dafür, dass mehr Männer wider der Ground Truth negativ eingeschätzt werden, um daraus die Fairness des Systems bezüglich Frauen zu erhöhen.\n",
    "<br><br>\n",
    "Es lässt sich also feststellen: Die Verminderung von Voreingenommenheit ist ein feiner Balanceakt. Die Anwendung eines spezifischen Mitigationsansatzes bedeutet ein gutes Ergebnis einer Fairnessmetrik, während andere Metriken \"schlechtere\" Werte erzielen. Des Weiteren sorgen unterschiedliche Methoden für ebenso unterschiedlich starke Einbußen in der Klassifikationsgenauigkeit, was je nach Entwicklungsziel und Einsatzbereich des Systems ein entscheidender Faktor für die gewählten Fairnesskriterien sein kann. Mit einem unausgeglichenen oder voreingenommenen Datensatz eine ausgeglichene Modell-Fairness auf allen Ebenen zu erreichen, ist wohl nur sehr schwer möglich."
   ]
  }
 ],
 "metadata": {
  "kernelspec": {
   "display_name": "Python 3",
   "language": "python",
   "name": "python3"
  },
  "language_info": {
   "codemirror_mode": {
    "name": "ipython",
    "version": 3
   },
   "file_extension": ".py",
   "mimetype": "text/x-python",
   "name": "python",
   "nbconvert_exporter": "python",
   "pygments_lexer": "ipython3",
   "version": "3.9.4"
  }
 },
 "nbformat": 4,
 "nbformat_minor": 5
}
